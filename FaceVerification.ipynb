{
  "cells": [
    {
      "cell_type": "markdown",
      "metadata": {
        "id": "view-in-github",
        "colab_type": "text"
      },
      "source": [
        "<a href=\"https://colab.research.google.com/github/Ramubala/face-recognition/blob/main/FaceVerification.ipynb\" target=\"_parent\"><img src=\"https://colab.research.google.com/assets/colab-badge.svg\" alt=\"Open In Colab\"/></a>"
      ]
    },
    {
      "cell_type": "code",
      "execution_count": 16,
      "metadata": {
        "id": "Ln7J3c8o8KYO"
      },
      "outputs": [],
      "source": [
        "# from google.colab import drive\n",
        "# drive.mount('/content/drive')"
      ]
    },
    {
      "cell_type": "code",
      "execution_count": 17,
      "metadata": {
        "id": "XLi8zXT69zPx"
      },
      "outputs": [],
      "source": [
        "!rm -rf '/content/data' \n",
        "# !rm -rf '/content/annotations'"
      ]
    },
    {
      "cell_type": "code",
      "execution_count": 18,
      "metadata": {
        "id": "B09KJnMY8Rd8"
      },
      "outputs": [],
      "source": [
        "# !mkdir data\n",
        "# !mkdir annotations\n",
        "# !tar zxvf '/content/drive/MyDrive/datasets/originalPics.tar.gz' -C '/content/data/' ;\n",
        "# !tar zxvf '/content/drive/MyDrive/datasets/FDDB-folds.tgz' -C '/content/annotations/';"
      ]
    },
    {
      "cell_type": "code",
      "execution_count": 19,
      "metadata": {
        "id": "6rfEZudLz-mj"
      },
      "outputs": [],
      "source": [
        "# import glob\n",
        "# file_list = [file for file in glob.glob(r'/content/annotations/FDDB-folds/*-ellipseList.txt',recursive=True)]\n",
        "# train_files, test_files = file_list[:9],[file_list[9]]\n",
        "# print(train_files, test_files)"
      ]
    },
    {
      "cell_type": "code",
      "execution_count": 20,
      "metadata": {
        "id": "I3Q9YHTxgKSZ"
      },
      "outputs": [],
      "source": [
        "#custom_train_dataset[2]"
      ]
    },
    {
      "cell_type": "code",
      "execution_count": 21,
      "metadata": {
        "id": "vvYI7hIN2Ulz"
      },
      "outputs": [],
      "source": [
        "# def per_person_stats(source_txt: str):\n",
        "#   stats_dict=dict()\n",
        "#   with open(source_txt,'r') as f:\n",
        "#     data = f.readlines()\n",
        "#     for i in range(1, len(data)):\n",
        "#       line = data[i].strip().split(\"\\t\")\n",
        "#       stats_dict[line[0]] = int(line[1])\n",
        "#   f.close()\n",
        "#   return stats_dict"
      ]
    },
    {
      "cell_type": "code",
      "execution_count": 22,
      "metadata": {
        "id": "7m0TnlkV0gRe"
      },
      "outputs": [],
      "source": [
        "# def pick_train_pairs(_dict, num_per_sample, num_negative_faces_per_sample):\n",
        "#   if num_per_sample!=3:\n",
        "#     raise Exception(\"only 3 per sample supported by algorithm\")\n",
        "#   allfaces = list(_dict.keys())\n",
        "#   data = []\n",
        "#   for key in allfaces:\n",
        "#     # anchor and postive example\n",
        "#     facepath = '/content/data/lfw-py/lfw_funneled/{}'.format(key)\n",
        "#     available_images = [file for file in glob.glob(facepath+'/*.jpg')]\n",
        "#     num_available_images = _dict[key]\n",
        "#     num_achor_postive_pairs = num_available_images*(num_available_images-1)\n",
        "#     if num_achor_postive_pairs==0:\n",
        "#       combinations = [(available_images[0],available_images[0])]\n",
        "#     else:\n",
        "#       combinations = list(itertools.combinations(available_images, 2))\n",
        "\n",
        "#     # negative face\n",
        "#     possible_choices = [v for v in allfaces if v != key]\n",
        "#     negative_examples = random.sample(possible_choices, num_negative_faces_per_sample)\n",
        "#     for negative_example in negative_examples:\n",
        "#       negfacepath = '/content/data/lfw-py/lfw_funneled/{}'.format(negative_example)\n",
        "#       available_images = [file for file in glob.glob(negfacepath+'/*.jpg')]\n",
        "#       neg_imgpath = random.choice(available_images)\n",
        "\n",
        "#       for tuple_el in combinations:\n",
        "#         data.append((tuple_el[0],tuple_el[1],neg_imgpath))\n",
        "#   return data  "
      ]
    },
    {
      "cell_type": "code",
      "execution_count": 23,
      "metadata": {
        "id": "pQC6z6BM1h6Z"
      },
      "outputs": [],
      "source": [
        "# train_txt_file = '/content/data/lfw-py/peopleDevTrain.txt'\n",
        "# test_txt_file = '/content/data/lfw-py/peopleDevTest.txt'\n",
        "# train_stats = per_person_stats(train_txt_file)\n",
        "# test_stats = per_person_stats(test_txt_file)"
      ]
    },
    {
      "cell_type": "code",
      "execution_count": 24,
      "metadata": {
        "id": "b-NpiT7c3cjb"
      },
      "outputs": [],
      "source": [
        "#test_stats.keys() & train_stats.keys()"
      ]
    },
    {
      "cell_type": "code",
      "execution_count": 25,
      "metadata": {
        "id": "k4LepwlE3veJ"
      },
      "outputs": [],
      "source": [
        "# train_data = pick_train_pairs(train_stats, 3, 5)"
      ]
    },
    {
      "cell_type": "code",
      "source": [
        "# !pip install -q condacolab\n",
        "# import condacolab\n",
        "# condacolab.install()\n",
        "# !conda install cudnn=8.3.2\n",
        "\n",
        "# VERSION = \"20200318\" #@param [\"20200318\",\"nightly\", \"xrt==1.15.0\"]\n",
        "# !curl https://raw.githubusercontent.com/pytorch/xla/master/contrib/scripts/env-setup.py -o pytorch-xla-env-setup.py\n",
        "# !python pytorch-xla-env-setup.py --version $VERSION"
      ],
      "metadata": {
        "id": "q8w39uvsrLV2"
      },
      "execution_count": 26,
      "outputs": []
    },
    {
      "cell_type": "code",
      "execution_count": 27,
      "metadata": {
        "id": "M4eBeNfY1pga"
      },
      "outputs": [],
      "source": [
        "import torchvision\n",
        "import torch\n",
        "import os\n",
        "import glob\n",
        "import numpy as np\n",
        "import itertools\n",
        "import random\n",
        "import imutils\n",
        "random.seed(42)\n",
        "from torch.utils.data import DataLoader,Dataset,Sampler\n",
        "import torchvision.transforms as transforms\n",
        "# import torch_xla\n",
        "# import torch_xla.core.xla_model as xm"
      ]
    },
    {
      "cell_type": "code",
      "execution_count": 28,
      "metadata": {
        "id": "9zK0a1Fz1hvc"
      },
      "outputs": [],
      "source": [
        "# transformation = transforms.Compose([\n",
        "#                                  transforms.ToTensor(),\n",
        "#                                  #transforms.Normalize((mean,), (std,))\n",
        "#                              ])\n",
        "\n",
        "# train_dataset = torchvision.datasets.LFWPeople('/content/data/',split='train',download=True,transform=transformation)\n",
        "# test_dataset = torchvision.datasets.LFWPeople('/content/data/',split='test',download=True,transform=transformation)\n",
        "\n",
        "#train_dataset = torchvision.datasets.MNIST('/content/data/',train=True,download=True)\n",
        "#test_dataset = torchvision.datasets.MNIST('/content/data/',train=False,download=True)\n",
        "#mean, std = 0.28604059698879553, 0.35302424451492237\n",
        "\n",
        "# train_dataset = torchvision.datasets.FashionMNIST('./content/data/FashionMNIST', train=True, download=True,\n",
        "#                              transform=transforms.Compose([\n",
        "#                                  transforms.ToTensor(),\n",
        "#                                  transforms.Normalize((mean,), (std,))\n",
        "#                              ]))\n",
        "# test_dataset = torchvision.datasets.FashionMNIST('/content/data/FashionMNIST', train=False, download=True,\n",
        "#                             transform=transforms.Compose([\n",
        "#                                 transforms.ToTensor(),\n",
        "#                                 transforms.Normalize((mean,), (std,))\n",
        "#                             ]))"
      ]
    },
    {
      "cell_type": "code",
      "source": [
        "# # find mean and std\n",
        "# train_dataloader = DataLoader(dataset=train_dataset, batch_size=64)\n",
        "\n",
        "# def get_mean_and_std(dataloader):\n",
        "#     channels_sum, channels_squared_sum, num_batches = 0, 0, 0\n",
        "#     for data, _ in dataloader:\n",
        "#         # Mean over batch, height and width, but not over the channels\n",
        "#         channels_sum += torch.mean(data, dim=[0,2,3])\n",
        "#         channels_squared_sum += torch.mean(data**2, dim=[0,2,3])\n",
        "#         num_batches += 1\n",
        "    \n",
        "#     mean = channels_sum / num_batches\n",
        "\n",
        "#     # std = sqrt(E[X^2] - (E[X])^2)\n",
        "#     std = (channels_squared_sum / num_batches - mean ** 2) ** 0.5\n",
        "\n",
        "#     return mean, std\n",
        "  \n",
        "# mean, std = get_mean_and_std(train_dataloader)"
      ],
      "metadata": {
        "id": "jWroOt0CeY76"
      },
      "execution_count": 29,
      "outputs": []
    },
    {
      "cell_type": "code",
      "source": [
        "# mean, std"
      ],
      "metadata": {
        "id": "y141FmQkf-9Q"
      },
      "execution_count": 30,
      "outputs": []
    },
    {
      "cell_type": "code",
      "source": [
        "transformation = transforms.Compose([\n",
        "                                 transforms.ToTensor(),\n",
        "                                 transforms.Normalize((0.4334, 0.3754, 0.3332), (0.2983, 0.2730, 0.2664)),\n",
        "                                 transforms.Resize(size=[64,64])\n",
        "                             ])\n",
        "\n",
        "train_dataset = torchvision.datasets.LFWPeople('/content/data/',split='train',download=True,transform=transformation)\n",
        "test_dataset = torchvision.datasets.LFWPeople('/content/data/',split='test',download=True,transform=transformation)"
      ],
      "metadata": {
        "colab": {
          "base_uri": "https://localhost:8080/",
          "height": 284,
          "referenced_widgets": [
            "04a58bcc97fe4b1b8f3046cd36b8bb11",
            "9a7dbc169d2d4389a054d760f60ed00b",
            "a18263fa37d14c08b37aba076f5ac0aa",
            "61def88df19748178c0a28ecbb599d72",
            "5d3e1b91704748e8a9f89de41dc3b552",
            "bdbdcfb2152b4baba3a8fb709c461aba",
            "b444494b415146c0add98fdb0fa7f308",
            "e7180d70874b426a8cb399ac956dcb26",
            "60086dd8f8d84d2992e516801e460dd8",
            "d91baf5feb7b4ab1ba4b1d28b99905af",
            "7fb556de37ab4a4e8ea11010ed74dd01",
            "d0e7acba0ff64f11aa2a05353b9940cc",
            "71b3a65c4c0940a98774220e86835b50",
            "48ed1560dffc442a86ba6ac746fd7140",
            "060ed84891164f1e89461286cd8a759d",
            "c0fc76ef12624d84a45f655181732f7c",
            "d0b8a097af6b4561aaca5d8845730bdc",
            "ac58bb11c3cb4e5a810e58ddb6a49d23",
            "34e7d0592bb1414a992026a1455b2e54",
            "dd392c6dcb5449a380c95ac4580b5de5",
            "b7bfc4496a994afcba0520bfc5da7d0a",
            "1d460f989f1544af8c21ab1857e16027",
            "a8251786c39647a990e87abe8deb1880",
            "3c59ce59352a43aebcbde9cced4ffbcd",
            "71be659a955e41e3b3c6962881aeed9e",
            "8b4912fcae8e40598d912978cd41e101",
            "b2a8c00d841e4ae8a296c7ef3b808100",
            "70f0a9cc67bc47019abc71a3b5bcb7d3",
            "d952bf672e1048e9a25c92f203d5aad4",
            "5de09f191f7e4963a28b00ebfd6abd1d",
            "94b0323b91cc4af3a0e45733468128d8",
            "fdd3a350107c475ca71e254958f206f6",
            "8368df1b796541c5bfe5d4d0b6d74b18",
            "71eaab9811fd475a8d7550453509ff0f",
            "a5715a09045d4caaa7be115eed2470fa",
            "86f5827e2d904ae8aa3bb243febf6e8f",
            "ab5580fb4b4f4b0db6f56a6c32ab60e1",
            "688d6d3357fd4834b1de1c652c5d44d4",
            "7cd0fd921db24682872e079fae7b4a80",
            "987f32881f2648d39e6e4baad34469cf",
            "fef9654f26d64bd99e6c8799c096d1de",
            "eccbaed25e624d3888b9dd09a9fcdecc",
            "288bdde3490140f3bb871e7abf5ea273",
            "b644d47d21b14c8da0444e5e4914c701"
          ]
        },
        "id": "SbnevaSHf3Px",
        "outputId": "49957b2f-d04c-4530-d3fe-c0e46d35ecc2"
      },
      "execution_count": 31,
      "outputs": [
        {
          "output_type": "stream",
          "name": "stdout",
          "text": [
            "Downloading http://vis-www.cs.umass.edu/lfw/lfw-funneled.tgz to /content/data/lfw-py/lfw-funneled.tgz\n"
          ]
        },
        {
          "output_type": "display_data",
          "data": {
            "text/plain": [
              "  0%|          | 0/243346528 [00:00<?, ?it/s]"
            ],
            "application/vnd.jupyter.widget-view+json": {
              "version_major": 2,
              "version_minor": 0,
              "model_id": "04a58bcc97fe4b1b8f3046cd36b8bb11"
            }
          },
          "metadata": {}
        },
        {
          "output_type": "stream",
          "name": "stdout",
          "text": [
            "Extracting /content/data/lfw-py/lfw-funneled.tgz to /content/data/lfw-py\n",
            "Downloading http://vis-www.cs.umass.edu/lfw/peopleDevTrain.txt to /content/data/lfw-py/peopleDevTrain.txt\n"
          ]
        },
        {
          "output_type": "display_data",
          "data": {
            "text/plain": [
              "  0%|          | 0/66403 [00:00<?, ?it/s]"
            ],
            "application/vnd.jupyter.widget-view+json": {
              "version_major": 2,
              "version_minor": 0,
              "model_id": "d0e7acba0ff64f11aa2a05353b9940cc"
            }
          },
          "metadata": {}
        },
        {
          "output_type": "stream",
          "name": "stdout",
          "text": [
            "Downloading http://vis-www.cs.umass.edu/lfw/lfw-names.txt to /content/data/lfw-py/lfw-names.txt\n"
          ]
        },
        {
          "output_type": "display_data",
          "data": {
            "text/plain": [
              "  0%|          | 0/94727 [00:00<?, ?it/s]"
            ],
            "application/vnd.jupyter.widget-view+json": {
              "version_major": 2,
              "version_minor": 0,
              "model_id": "a8251786c39647a990e87abe8deb1880"
            }
          },
          "metadata": {}
        },
        {
          "output_type": "stream",
          "name": "stdout",
          "text": [
            "Using downloaded and verified file: /content/data/lfw-py/lfw-funneled.tgz\n",
            "Extracting /content/data/lfw-py/lfw-funneled.tgz to /content/data/lfw-py\n",
            "Downloading http://vis-www.cs.umass.edu/lfw/peopleDevTest.txt to /content/data/lfw-py/peopleDevTest.txt\n"
          ]
        },
        {
          "output_type": "display_data",
          "data": {
            "text/plain": [
              "  0%|          | 0/28334 [00:00<?, ?it/s]"
            ],
            "application/vnd.jupyter.widget-view+json": {
              "version_major": 2,
              "version_minor": 0,
              "model_id": "71eaab9811fd475a8d7550453509ff0f"
            }
          },
          "metadata": {}
        },
        {
          "output_type": "stream",
          "name": "stdout",
          "text": [
            "Using downloaded and verified file: /content/data/lfw-py/lfw-names.txt\n"
          ]
        }
      ]
    },
    {
      "cell_type": "code",
      "execution_count": 32,
      "metadata": {
        "id": "Q7YUjRBgNvgG",
        "colab": {
          "base_uri": "https://localhost:8080/"
        },
        "outputId": "76d2aad9-7f77-466d-adeb-520fb75e66f7"
      },
      "outputs": [
        {
          "output_type": "execute_result",
          "data": {
            "text/plain": [
              "(9525, 3708)"
            ]
          },
          "metadata": {},
          "execution_count": 32
        }
      ],
      "source": [
        "len(train_dataset), len(test_dataset)"
      ]
    },
    {
      "cell_type": "code",
      "source": [
        "# train_dataset[0]"
      ],
      "metadata": {
        "id": "_HKxlBLphoe9"
      },
      "execution_count": 33,
      "outputs": []
    },
    {
      "cell_type": "code",
      "execution_count": 34,
      "metadata": {
        "id": "ZAYBiTUuVm4h"
      },
      "outputs": [],
      "source": [
        "from torch.utils.data.dataloader import BatchSampler\n",
        "import gc\n",
        "\n",
        "class CustomDataset(Dataset):\n",
        "  def __init__(self, src_dataset, upsampling_factor):\n",
        "    self.src_dataset = src_dataset\n",
        "    self.src_labels = np.array([src_dataset[i][1] for i in range(len(src_dataset))])\n",
        "    self.labels = list(set(self.src_labels))\n",
        "    self.label_to_index= {label: np.where(self.src_labels == label)[0]\n",
        "                                     for label in self.labels}\n",
        "    self.upsampling_factor = upsampling_factor\n",
        "    #print(self.label_to_index)\n",
        "\n",
        "  def __len__(self):\n",
        "      return self.upsampling_factor*len(self.src_dataset)\n",
        "\n",
        "  def __getitem__(self, idx : int):\n",
        "      # anchor image\n",
        "      ref_dataset_index = int(idx/self.upsampling_factor)\n",
        "      ref_train_image = self.src_dataset[ref_dataset_index]\n",
        "      label = ref_train_image[1]\n",
        "\n",
        "      # finding positive example\n",
        "      possible_positive_choices = self.label_to_index[label]\n",
        "      possible_positive_choices = [v for v in possible_positive_choices] #if v!= idx]\n",
        "      choice = random.choice(possible_positive_choices)\n",
        "      positive_train_image = self.src_dataset[choice]\n",
        "\n",
        "      # finding negative example\n",
        "      possible_neg_choices = [v for v in self.labels if v!= label]\n",
        "      choice = random.choice(possible_neg_choices)\n",
        "      choose_neg_idx = random.choice(self.label_to_index[choice])\n",
        "      negative_train_image = self.src_dataset[choose_neg_idx]\n",
        "\n",
        "      return (ref_train_image[0], positive_train_image[0], negative_train_image[0]), (ref_train_image[1], positive_train_image[1], negative_train_image[1])\n",
        "\n",
        "\n",
        "_train_dataset = CustomDataset(train_dataset, 1)\n",
        "_test_dataset = CustomDataset(test_dataset, 1)"
      ]
    },
    {
      "cell_type": "code",
      "execution_count": 35,
      "metadata": {
        "id": "A0Myf7Hvi1eP",
        "colab": {
          "base_uri": "https://localhost:8080/"
        },
        "outputId": "b6aec21b-05e5-4765-8100-03a69daea957"
      },
      "outputs": [
        {
          "output_type": "execute_result",
          "data": {
            "text/plain": [
              "(9525, 3708)"
            ]
          },
          "metadata": {},
          "execution_count": 35
        }
      ],
      "source": [
        "len(_train_dataset), len(_test_dataset)"
      ]
    },
    {
      "cell_type": "code",
      "execution_count": 36,
      "metadata": {
        "id": "uQzEnrBOi9IX"
      },
      "outputs": [],
      "source": [
        "# torch.save(_train_dataset, 'train.pt')\n",
        "# torch.save(_test_dataset,'test.pt')"
      ]
    },
    {
      "cell_type": "code",
      "source": [
        "class BatchSamplerUniform(Sampler):\n",
        "  def __init__(self, labels, n_classes, n_samples):\n",
        "    self.labels = labels\n",
        "    self.batch_size = n_classes*n_samples\n",
        "    self.unique_labels = list(set(labels))\n",
        "    self.n_classes = n_classes\n",
        "    self.n_samples = n_samples\n",
        "    self.labels_to_index_map = {label: np.where(self.labels == label)[0]\n",
        "                                      for label in self.unique_labels}\n",
        "    self.used_up_samples = {label: 0 for label in self.unique_labels}\n",
        "    self.count=0\n",
        "\n",
        "  def __iter__(self):\n",
        "    self.count=0\n",
        "    while self.count + self.batch_size < len(self.labels):\n",
        "      sampled_classes = np.random.choice(self.unique_labels, self.n_classes, replace=False)\n",
        "      indices = []\n",
        "      for label in sampled_classes:\n",
        "        available_indices = self.labels_to_index_map[label]\n",
        "        last_index_used = self.used_up_samples[label]\n",
        "        samples = available_indices[last_index_used:last_index_used+self.n_samples]\n",
        "        self.used_up_samples[label] = last_index_used+self.n_samples\n",
        "        if self.used_up_samples[label]+self.n_samples>len(available_indices):\n",
        "          np.random.shuffle(self.labels_to_index_map[label])\n",
        "          self.used_up_samples[label]=0\n",
        "        indices.extend(samples)\n",
        "      self.count+=self.batch_size\n",
        "      yield indices\n",
        "\n",
        "  def __len__(self):\n",
        "    return len(self.labels)//self.batch_size"
      ],
      "metadata": {
        "id": "5kNI4G4MLpKy"
      },
      "execution_count": 37,
      "outputs": []
    },
    {
      "cell_type": "code",
      "execution_count": 38,
      "metadata": {
        "id": "4PDl-3z2lQB9"
      },
      "outputs": [],
      "source": [
        "#kwargs = {'num_workers': 1, 'pin_memory': True} if cuda else {} #batch_sampler= BatchSamplerUniform(_train_dataset.src_labels, 10, 25)\n",
        "train_dataloader = DataLoader(_train_dataset, batch_size=128, shuffle=True)#, **kwargs)\n",
        "test_dataloader = DataLoader(_test_dataset, batch_size=128, shuffle=False)#, **kwargs)"
      ]
    },
    {
      "cell_type": "markdown",
      "metadata": {
        "id": "nwuzxzCOl5mz"
      },
      "source": [
        "## Define models"
      ]
    },
    {
      "cell_type": "code",
      "execution_count": 39,
      "metadata": {
        "id": "oNxgB7Kkmr6L"
      },
      "outputs": [],
      "source": [
        "import torch\n",
        "import torch.nn as nn\n",
        "from torch.nn.modules.pooling import MaxPool2d"
      ]
    },
    {
      "cell_type": "code",
      "execution_count": 40,
      "metadata": {
        "id": "uZtIOz1MmopD"
      },
      "outputs": [],
      "source": [
        "class BasicConv2d(nn.Module):\n",
        "  def __init__(self, in_channels, out_channels, kernel_size, stride ):\n",
        "    super().__init__()\n",
        "    self.model = nn.Sequential(\n",
        "        nn.Conv2d(in_channels=in_channels,out_channels=out_channels,kernel_size=kernel_size,stride=stride),\n",
        "        nn.BatchNorm2d(num_features=out_channels)\n",
        "    )\n",
        "    self.relu = nn.ReLU()\n",
        "\n",
        "  def forward(self,x):\n",
        "    return self.relu(self.model(x))"
      ]
    },
    {
      "cell_type": "code",
      "execution_count": 159,
      "metadata": {
        "id": "Zs7vIk1umR-r"
      },
      "outputs": [],
      "source": [
        "class FaceSimilarity(nn.Module):\n",
        "  def __init__(self):\n",
        "    super().__init__()\n",
        "    # self.conv_layers = nn.Sequential(\n",
        "    #         nn.Conv2d(1, 64, kernel_size=3, padding=1),\n",
        "    #         nn.ReLU(),\n",
        "    #         nn.MaxPool2d(kernel_size=2, stride=2),\n",
        "    #         nn.Conv2d(64, 128, kernel_size=3, padding=1),\n",
        "    #         nn.ReLU(),\n",
        "    #         nn.MaxPool2d(kernel_size=2, stride=2),\n",
        "    #         nn.Conv2d(128, 256, kernel_size=3, padding=1),\n",
        "    #         nn.ReLU(),\n",
        "    #         nn.Conv2d(256, 256, kernel_size=3, padding=1),\n",
        "    #         nn.ReLU(),\n",
        "    #         nn.MaxPool2d(kernel_size=2, stride=2),\n",
        "    #         nn.Conv2d(256, 512, kernel_size=3, padding=1),\n",
        "    #         nn.ReLU(),\n",
        "    #         nn.Conv2d(512, 512, kernel_size=3, padding=1),\n",
        "    #         nn.ReLU(),\n",
        "    #         nn.MaxPool2d(kernel_size=2, stride=2),\n",
        "    #         nn.Conv2d(512, 512, kernel_size=3, padding=1),\n",
        "    #         nn.ReLU(),\n",
        "    #         nn.Conv2d(512, 512, kernel_size=3, padding=1),\n",
        "    #         nn.ReLU(),\n",
        "    #         nn.MaxPool2d(kernel_size=2, stride=2)\n",
        "    #     )\n",
        "    self.conv_layers = nn.Sequential(nn.Conv2d(3, 32, 5), nn.PReLU(),\n",
        "                                     nn.MaxPool2d(2, stride=2),\n",
        "                                     nn.Conv2d(32, 64, 5), nn.PReLU(),\n",
        "                                     nn.MaxPool2d(2, stride=2),\n",
        "                                     nn.Conv2d(64, 64, 3), nn.PReLU(),\n",
        "                                     nn.MaxPool2d(2, stride=2),)\n",
        "\n",
        "    self.fc_layers = nn.Sequential(nn.Linear(16 * 10 * 10, 256),\n",
        "                        nn.PReLU(),\n",
        "                        nn.Linear(256, 256),\n",
        "                        nn.PReLU(),\n",
        "                        nn.Linear(256,2)\n",
        "                        )\n",
        "    # self.conv_layers = nn.Sequential(\n",
        "    #     BasicConv2d(in_channels=3,out_channels=64,kernel_size=5,stride=2),\n",
        "    #     nn.MaxPool2d(kernel_size=3,stride=2),\n",
        "    #     #BasicConv2d(in_channels=64,out_channels=64,kernel_size=1,stride=1),\n",
        "    #     BasicConv2d(in_channels=64,out_channels=128,kernel_size=5,stride=1),\n",
        "    #     nn.MaxPool2d(kernel_size=3,stride=2),\n",
        "    #     #BasicConv2d(in_channels=192,out_channels=192,kernel_size=1,stride=1),\n",
        "    #     BasicConv2d(in_channels=192,out_channels=384,kernel_size=3,stride=1),\n",
        "    #     nn.MaxPool2d(kernel_size=3,stride=2),\n",
        "    #     #BasicConv2d(in_channels=384,out_channels=384,kernel_size=1,stride=1),\n",
        "    #     BasicConv2d(in_channels=384,out_channels=256,kernel_size=3,stride=1),\n",
        "    #     BasicConv2d(in_channels=256,out_channels=256,kernel_size=1,stride=1),\n",
        "    #     BasicConv2d(in_channels=256,out_channels=256,kernel_size=3,stride=1),\n",
        "    #     BasicConv2d(in_channels=256,out_channels=256,kernel_size=1,stride=1),\n",
        "    #     BasicConv2d(in_channels=256,out_channels=256,kernel_size=3,stride=1),\n",
        "    #     nn.MaxPool2d(kernel_size=3,stride=2),\n",
        "    # )\n",
        "\n",
        "    # self.fc_layers = nn.Sequential(\n",
        "    #     nn.Linear(in_features=2*2*256,out_features=128),\n",
        "    #     nn.Linear(in_features=128, out_features=2),\n",
        "    #     #nn.Linear(in_features=32*128, out_features=1*128)\n",
        "    # )\n",
        "\n",
        "  def forward(self,x):\n",
        "    x = x.cuda()\n",
        "    conv_output = self.conv_layers(x)\n",
        "    conv_output = conv_output.view(conv_output.shape[0],-1)\n",
        "    linear_layers_output  = self.fc_layers(conv_output)\n",
        "    l2_norm_output  =(linear_layers_output/(linear_layers_output.pow(2).sum(1, keepdim=True).sqrt())).squeeze(0)\n",
        "    return l2_norm_output\n"
      ]
    },
    {
      "cell_type": "code",
      "execution_count": 160,
      "metadata": {
        "id": "k44dKqL8s3-5"
      },
      "outputs": [],
      "source": [
        "class TripletModel(nn.Module):\n",
        "    def __init__(self):\n",
        "      super().__init__()\n",
        "      self.face_similarity = FaceSimilarity()\n",
        "    \n",
        "    def forward(self, anchor, positive, negative):\n",
        "      rep_1 = self.face_similarity(anchor)\n",
        "      rep_2 = self.face_similarity(positive)\n",
        "      rep_3 = self.face_similarity(negative)\n",
        "      return rep_1, rep_2, rep_3\n",
        "\n",
        "    def get_embedding(self,x):\n",
        "      return self.face_similarity.forward(x)"
      ]
    },
    {
      "cell_type": "markdown",
      "metadata": {
        "id": "lbi2YHwBt0Z_"
      },
      "source": [
        "Define metrics"
      ]
    },
    {
      "cell_type": "code",
      "execution_count": 161,
      "metadata": {
        "id": "cl-8QUDAuL2_"
      },
      "outputs": [],
      "source": [
        "class TripletLoss(nn.Module):\n",
        "  def __init__(self, alpha):\n",
        "    super().__init__()\n",
        "    self.margin = alpha\n",
        "\n",
        "  def forward(self, embeddings, target_labels):\n",
        "    distance_positive = (embeddings[:,0] - embeddings[:,1]).pow(2).sum(1)\n",
        "    distance_negative = (embeddings[:,0] - embeddings[:,2]).pow(2).sum(1)\n",
        "    loss = torch.nn.functional.relu(distance_positive - distance_negative + self.margin)\n",
        "    accuracy = 100*(1-torch.count_nonzero(loss)/len(loss))\n",
        "    return loss.mean(), accuracy"
      ]
    },
    {
      "cell_type": "code",
      "source": [
        "from itertools import combinations\n",
        "\n",
        "class OnlineTripletLoss(nn.Module):\n",
        "  def __init__(self, alpha):\n",
        "    super().__init__()\n",
        "    self.margin = alpha\n",
        "\n",
        "  def pdist(self, vectors):\n",
        "    distance_matrix = -2 * vectors.mm(torch.t(vectors)) + vectors.pow(2).sum(dim=1).view(1, -1) + vectors.pow(2).sum(\n",
        "        dim=1).view(-1, 1)\n",
        "    #distance_matrix = np.linalg.norm(vectors-b)\n",
        "    return distance_matrix\n",
        "\n",
        "  def hardest_negative(self, loss_values):\n",
        "    hard_negative = np.argmax(loss_values)\n",
        "    return hard_negative if loss_values[hard_negative] > 0 else None\n",
        "\n",
        "  def random_hard_negative(self, loss_values):\n",
        "    hard_negatives = np.where(loss_values > 0)[0]\n",
        "    return np.random.choice(hard_negatives) if len(hard_negatives) > 0 else None\n",
        "\n",
        "  def get_pairs_with_hard_negative(self, embeddings, target_labels):\n",
        "    distance_matrix = self.pdist(embeddings)\n",
        "    distance_matrix = distance_matrix.cpu()\n",
        "    labels = target_labels.cpu().data.numpy()\n",
        "    triplets = []\n",
        "\n",
        "    for label in set(labels.flatten()):\n",
        "        label_mask = (labels == label)\n",
        "        label_indices = np.where(label_mask)[0]\n",
        "        if len(label_indices) < 2:\n",
        "            continue\n",
        "        negative_indices = np.where(np.logical_not(label_mask))[0]\n",
        "        anchor_positives = list(combinations(label_indices, 2))  # All anchor-positive pairs\n",
        "        anchor_positives = np.array(anchor_positives)\n",
        "\n",
        "        ap_distances = distance_matrix[anchor_positives[:, 0], anchor_positives[:, 1]]\n",
        "        for anchor_positive, ap_distance in zip(anchor_positives, ap_distances):\n",
        "            loss_values = ap_distance - distance_matrix[torch.LongTensor(np.array([anchor_positive[0]])), torch.LongTensor(negative_indices)] + self.margin\n",
        "            loss_values = loss_values.data.cpu().numpy()\n",
        "            hard_negative = self.random_hard_negative(loss_values)\n",
        "            if hard_negative is not None:\n",
        "                hard_negative = negative_indices[hard_negative]\n",
        "                triplets.append([anchor_positive[0], anchor_positive[1], hard_negative])\n",
        "\n",
        "    if len(triplets) == 0:\n",
        "        triplets.append([anchor_positive[0], anchor_positive[1], negative_indices[0]])\n",
        "\n",
        "    triplets = np.array(triplets)\n",
        "\n",
        "    return torch.LongTensor(triplets)\n",
        "\n",
        "  def forward(self, embeddings, target_labels):\n",
        "    embeddings = torch.cat(embeddings,dim=1)\n",
        "    for sub_list in target_labels:\n",
        "      target_labels = torch.stack(sub_list,dim=0).T\n",
        "    triplets = self.get_pairs_with_hard_negative(embeddings, target_labels)\n",
        "    if embeddings.is_cuda:\n",
        "             triplets = triplets.cuda()\n",
        "    ap_distances = (embeddings[triplets[:, 0]] - embeddings[triplets[:, 1]]).pow(2).sum(1)  # .pow(.5)\n",
        "    an_distances = (embeddings[triplets[:, 0]] - embeddings[triplets[:, 2]]).pow(2).sum(1)  # .pow(.5)\n",
        "    loss = torch.nn.functional.relu(ap_distances - an_distances + self.margin)\n",
        "    accuracy = 100*torch.count_nonzero(loss)/len(loss)\n",
        "\n",
        "    return loss.mean(), accuracy"
      ],
      "metadata": {
        "id": "uwBPbYynKXx3"
      },
      "execution_count": 162,
      "outputs": []
    },
    {
      "cell_type": "code",
      "execution_count": 163,
      "metadata": {
        "id": "jDQRCPIrn8bc"
      },
      "outputs": [],
      "source": [
        "def train_model(dataloader,model,optimizer,criterion):\n",
        "  model.train()\n",
        "  train_loss=0\n",
        "  classification_accuracy=0\n",
        "  for i, (input, target) in enumerate(dataloader):\n",
        "    optimizer.zero_grad()\n",
        "    output = model(*input)#.cuda()\n",
        "    if type(output) not in (tuple, tuple):\n",
        "       output = (output,)\n",
        "    loss_inputs = output\n",
        "    if target is not None:\n",
        "       target = (target,)\n",
        "       loss_inputs += target\n",
        "    loss, accuracy = criterion(output,target)\n",
        "    classification_accuracy+=accuracy\n",
        "    loss.backward()\n",
        "    train_loss+=loss\n",
        "    optimizer.step()\n",
        "  return train_loss/len(dataloader)#, classification_accuracy/len(dataloader)"
      ]
    },
    {
      "cell_type": "code",
      "execution_count": 164,
      "metadata": {
        "id": "uZQlfHpogC48"
      },
      "outputs": [],
      "source": [
        "def eval_model(dataloader,model,optimizer,criterion):\n",
        "  model.eval()\n",
        "  val_loss=0\n",
        "  classification_accuracy=0\n",
        "  with torch.no_grad():\n",
        "    for i, (input, target) in enumerate(dataloader):\n",
        "      output = model(*input)#.cuda()\n",
        "      if type(output) not in (tuple, tuple):\n",
        "        output = (output,)\n",
        "      loss_inputs = output\n",
        "      if target is not None:\n",
        "       target = (target,)\n",
        "       loss_inputs += target\n",
        "      loss, accuracy = criterion(output,target)\n",
        "      classification_accuracy+=accuracy\n",
        "      val_loss+=loss\n",
        "    return val_loss/len(dataloader)#, classification_accuracy/len(dataloader)"
      ]
    },
    {
      "cell_type": "code",
      "source": [
        "def epoch_time(start_time, end_time):\n",
        "    elapsed_time = end_time - start_time\n",
        "    elapsed_mins = int(elapsed_time / 60)\n",
        "    elapsed_secs = int(elapsed_time - (elapsed_mins * 60))\n",
        "    return elapsed_mins, elapsed_secs"
      ],
      "metadata": {
        "id": "aPZKdNJ7KIb0"
      },
      "execution_count": 165,
      "outputs": []
    },
    {
      "cell_type": "code",
      "execution_count": 166,
      "metadata": {
        "id": "jJdQByjChK2V"
      },
      "outputs": [],
      "source": [
        "def fit(max_epochs, model, optimizer, criterion):\n",
        "  min_val_loss = float('inf')\n",
        "\n",
        "  for i in range(max_epochs):\n",
        "    start_time = time.time()\n",
        "\n",
        "    # train model\n",
        "    train_loss = train_model(train_dataloader, model, optimizer, criterion)\n",
        "    \n",
        "    # val model loss\n",
        "    val_loss = eval_model(test_dataloader, model, optimizer, criterion)\n",
        "\n",
        "    end_time = time.time()\n",
        "\n",
        "    epoch_mins, epoch_secs = epoch_time(start_time, end_time)\n",
        "    \n",
        "    print(f'Epoch: {i:02} | Time: {epoch_mins}m {epoch_secs}s')\n",
        "    print(\"Epoch {} elapsed, train_loss: {}, val_loss: {}\".format(i,train_loss,val_loss))\n",
        "    if val_loss<min_val_loss:\n",
        "      min_val_loss = val_loss\n",
        "      torch.save(model, '/content/face_verification.pt')"
      ]
    },
    {
      "cell_type": "code",
      "execution_count": 167,
      "metadata": {
        "id": "yqWP2uEbl2tc",
        "colab": {
          "base_uri": "https://localhost:8080/"
        },
        "outputId": "2fab1f4d-a7b1-4658-8951-8849992b3b46"
      },
      "outputs": [
        {
          "output_type": "stream",
          "name": "stdout",
          "text": [
            "566791\n",
            "Epoch: 00 | Time: 1m 47s\n",
            "Epoch 0 elapsed, train_loss: 1.0743838548660278, val_loss: 1.6588386297225952\n",
            "Epoch: 01 | Time: 1m 45s\n",
            "Epoch 1 elapsed, train_loss: 1.1964504718780518, val_loss: 1.8332040309906006\n",
            "Epoch: 02 | Time: 1m 44s\n",
            "Epoch 2 elapsed, train_loss: 1.1758205890655518, val_loss: 1.9647423028945923\n",
            "Epoch: 03 | Time: 1m 44s\n",
            "Epoch 3 elapsed, train_loss: 1.263321876525879, val_loss: 1.9112908840179443\n",
            "Epoch: 04 | Time: 1m 44s\n",
            "Epoch 4 elapsed, train_loss: 1.209548830986023, val_loss: 1.8092548847198486\n",
            "Epoch: 05 | Time: 1m 44s\n",
            "Epoch 5 elapsed, train_loss: 1.2136881351470947, val_loss: 1.8518972396850586\n",
            "Epoch: 06 | Time: 1m 43s\n",
            "Epoch 6 elapsed, train_loss: 1.1429522037506104, val_loss: 1.9933208227157593\n",
            "Epoch: 07 | Time: 1m 44s\n",
            "Epoch 7 elapsed, train_loss: 1.2376052141189575, val_loss: 1.7682936191558838\n",
            "Epoch: 08 | Time: 1m 44s\n",
            "Epoch 8 elapsed, train_loss: 1.1591471433639526, val_loss: 1.8472775220870972\n",
            "Epoch: 09 | Time: 1m 44s\n",
            "Epoch 9 elapsed, train_loss: 1.1622276306152344, val_loss: 1.7314311265945435\n",
            "Epoch: 10 | Time: 1m 44s\n",
            "Epoch 10 elapsed, train_loss: 1.110517144203186, val_loss: 1.3666565418243408\n",
            "Epoch: 11 | Time: 1m 44s\n",
            "Epoch 11 elapsed, train_loss: 1.0836409330368042, val_loss: 1.72079598903656\n",
            "Epoch: 12 | Time: 1m 43s\n",
            "Epoch 12 elapsed, train_loss: 1.0554461479187012, val_loss: 1.7534699440002441\n",
            "Epoch: 13 | Time: 1m 44s\n",
            "Epoch 13 elapsed, train_loss: 1.0514659881591797, val_loss: 1.6201813220977783\n",
            "Epoch: 14 | Time: 1m 44s\n",
            "Epoch 14 elapsed, train_loss: 1.016106367111206, val_loss: 1.2846918106079102\n",
            "Epoch: 15 | Time: 1m 44s\n",
            "Epoch 15 elapsed, train_loss: 1.0141786336898804, val_loss: 1.658719778060913\n",
            "Epoch: 16 | Time: 1m 45s\n",
            "Epoch 16 elapsed, train_loss: 1.0412170886993408, val_loss: 1.5850801467895508\n",
            "Epoch: 17 | Time: 1m 44s\n",
            "Epoch 17 elapsed, train_loss: 0.9937167763710022, val_loss: 1.5376451015472412\n",
            "Epoch: 18 | Time: 1m 44s\n",
            "Epoch 18 elapsed, train_loss: 0.989467978477478, val_loss: 1.551841378211975\n",
            "Epoch: 19 | Time: 1m 44s\n",
            "Epoch 19 elapsed, train_loss: 0.9793902039527893, val_loss: 1.4816168546676636\n",
            "Epoch: 20 | Time: 1m 43s\n",
            "Epoch 20 elapsed, train_loss: 0.9540064930915833, val_loss: 1.5224460363388062\n",
            "Epoch: 21 | Time: 1m 44s\n",
            "Epoch 21 elapsed, train_loss: 0.920473039150238, val_loss: 1.4798418283462524\n",
            "Epoch: 22 | Time: 1m 44s\n",
            "Epoch 22 elapsed, train_loss: 0.9363430738449097, val_loss: 1.607969880104065\n",
            "Epoch: 23 | Time: 1m 43s\n",
            "Epoch 23 elapsed, train_loss: 0.9346247315406799, val_loss: 1.4509514570236206\n",
            "Epoch: 24 | Time: 1m 44s\n",
            "Epoch 24 elapsed, train_loss: 0.9159934520721436, val_loss: 1.5302064418792725\n",
            "Epoch: 25 | Time: 1m 43s\n",
            "Epoch 25 elapsed, train_loss: 0.9198839664459229, val_loss: 1.496948003768921\n",
            "Epoch: 26 | Time: 1m 44s\n",
            "Epoch 26 elapsed, train_loss: 0.9127104878425598, val_loss: 1.4683891534805298\n",
            "Epoch: 27 | Time: 1m 44s\n",
            "Epoch 27 elapsed, train_loss: 0.9226598143577576, val_loss: 1.498171329498291\n",
            "Epoch: 28 | Time: 1m 44s\n",
            "Epoch 28 elapsed, train_loss: 0.9199787378311157, val_loss: 1.3304754495620728\n",
            "Epoch: 29 | Time: 1m 44s\n",
            "Epoch 29 elapsed, train_loss: 0.9076485633850098, val_loss: 1.5045218467712402\n",
            "Epoch: 30 | Time: 1m 44s\n",
            "Epoch 30 elapsed, train_loss: 0.9098142981529236, val_loss: 1.109372615814209\n",
            "Epoch: 31 | Time: 1m 44s\n",
            "Epoch 31 elapsed, train_loss: 0.9239353537559509, val_loss: 1.41002357006073\n",
            "Epoch: 32 | Time: 1m 44s\n",
            "Epoch 32 elapsed, train_loss: 0.9080244898796082, val_loss: 1.4499038457870483\n",
            "Epoch: 33 | Time: 1m 43s\n",
            "Epoch 33 elapsed, train_loss: 0.9103964567184448, val_loss: 1.551271677017212\n",
            "Epoch: 34 | Time: 1m 44s\n",
            "Epoch 34 elapsed, train_loss: 0.904690146446228, val_loss: 1.441293478012085\n",
            "Epoch: 35 | Time: 1m 43s\n",
            "Epoch 35 elapsed, train_loss: 0.8970053195953369, val_loss: 1.4175264835357666\n",
            "Epoch: 36 | Time: 1m 44s\n",
            "Epoch 36 elapsed, train_loss: 0.8893865346908569, val_loss: 1.3099859952926636\n",
            "Epoch: 37 | Time: 1m 44s\n",
            "Epoch 37 elapsed, train_loss: 0.873185932636261, val_loss: 1.558975100517273\n",
            "Epoch: 38 | Time: 1m 43s\n",
            "Epoch 38 elapsed, train_loss: 0.8964649438858032, val_loss: 1.4483819007873535\n",
            "Epoch: 39 | Time: 1m 45s\n",
            "Epoch 39 elapsed, train_loss: 0.8981912732124329, val_loss: 1.3917309045791626\n"
          ]
        }
      ],
      "source": [
        "import time\n",
        "\n",
        "device = torch.device('cuda' if torch.cuda.is_available() else 'cpu')\n",
        "criterion = OnlineTripletLoss(alpha=1)\n",
        "model = TripletModel().to(device)\n",
        "optimizer = torch.optim.Adam(model.parameters(),lr=1e-3, weight_decay=1e-4)\n",
        "print(sum(p.numel() for p in model.parameters() if p.requires_grad))\n",
        "fit(40, model, optimizer, criterion)"
      ]
    },
    {
      "cell_type": "code",
      "execution_count": 168,
      "metadata": {
        "id": "CH7G2hHDkq0Y"
      },
      "outputs": [],
      "source": [
        "#saved_model = TripletModel()\n",
        "saved_model = torch.load('/content/face_verification.pt')"
      ]
    },
    {
      "cell_type": "code",
      "source": [
        "_train_dataset.src_labels"
      ],
      "metadata": {
        "colab": {
          "base_uri": "https://localhost:8080/"
        },
        "id": "_mBY25NIZrNo",
        "outputId": "31835e3e-4a25-475f-f2d3-2f93b662a28f"
      },
      "execution_count": 169,
      "outputs": [
        {
          "output_type": "execute_result",
          "data": {
            "text/plain": [
              "array([   0,    2,    4, ..., 5744, 5746, 5748])"
            ]
          },
          "metadata": {},
          "execution_count": 169
        }
      ]
    },
    {
      "cell_type": "code",
      "execution_count": 170,
      "metadata": {
        "id": "l34hrmHWlA0B"
      },
      "outputs": [],
      "source": [
        "import matplotlib.pyplot as plt\n",
        "\n",
        "def plot_embeddings(embeddings, targets, xlim=None, ylim=None):\n",
        "    plt.figure(figsize=(10,10))\n",
        "    for i in range(1000):\n",
        "        inds = np.where(targets==i)[0]\n",
        "        plt.scatter(embeddings[inds,0], embeddings[inds,1], alpha=0.5)\n",
        "    if xlim:\n",
        "        plt.xlim(xlim[0], xlim[1])\n",
        "    if ylim:\n",
        "        plt.ylim(ylim[0], ylim[1])\n",
        "    #plt.legend(mnist_classes)\n",
        "\n",
        "def extract_embeddings(dataloader, model):\n",
        "    with torch.no_grad():\n",
        "        model.eval()\n",
        "        embeddings = np.zeros((len(dataloader.dataset), 2))\n",
        "        labels = np.zeros(len(dataloader.dataset))\n",
        "        k = 0\n",
        "        for i, (images, target) in enumerate(dataloader):\n",
        "            #if device=='cuda':\n",
        "            #    images = images.cuda()\n",
        "            embeddings[k:k+len(images[0])] = model.get_embedding(images[0]).data.cpu().numpy()\n",
        "            labels[k:k+len(images[0])] = target[0].numpy()\n",
        "            k += len(images[0])\n",
        "    return embeddings, labels"
      ]
    },
    {
      "cell_type": "code",
      "source": [
        "train_embeddings_otl, train_labels_otl = extract_embeddings(train_dataloader, model)\n",
        "val_embeddings_otl, val_labels_otl = extract_embeddings(test_dataloader, model)"
      ],
      "metadata": {
        "id": "uEvARgCBTOVr"
      },
      "execution_count": 171,
      "outputs": []
    },
    {
      "cell_type": "code",
      "source": [
        "plot_embeddings(train_embeddings_otl, train_labels_otl)\n",
        "plot_embeddings(val_embeddings_otl, val_labels_otl)"
      ],
      "metadata": {
        "colab": {
          "base_uri": "https://localhost:8080/",
          "height": 1000
        },
        "id": "hPa9PRyCZ8cK",
        "outputId": "97e681ca-1f41-42b3-f66a-2e31afa65ce9"
      },
      "execution_count": 172,
      "outputs": [
        {
          "output_type": "display_data",
          "data": {
            "text/plain": [
              "<Figure size 720x720 with 1 Axes>"
            ],
            "image/png": "[encoded data removed]"
          },
          "metadata": {
            "needs_background": "light"
          }
        },
        {
          "output_type": "display_data",
          "data": {
            "text/plain": [
              "<Figure size 720x720 with 1 Axes>"
            ],
            "image/png": "[encoded data removed]"
          },
          "metadata": {
            "needs_background": "light"
          }
        }
      ]
    }
  ],
  "metadata": {
    "colab": {
      "collapsed_sections": [],
      "provenance": [],
      "authorship_tag": "ABX9TyNamSb612rvbNjYz3vEUAiH",
      "include_colab_link": true
    },
    "kernelspec": {
      "display_name": "Python 3",
      "name": "python3"
    },
    "language_info": {
      "name": "python"
    },
    "accelerator": "GPU",
    "widgets": {
      "application/vnd.jupyter.widget-state+json": {
        "04a58bcc97fe4b1b8f3046cd36b8bb11": {
          "model_module": "@jupyter-widgets/controls",
          "model_name": "HBoxModel",
          "model_module_version": "1.5.0",
          "state": {
            "_dom_classes": [],
            "_model_module": "@jupyter-widgets/controls",
            "_model_module_version": "1.5.0",
            "_model_name": "HBoxModel",
            "_view_count": null,
            "_view_module": "@jupyter-widgets/controls",
            "_view_module_version": "1.5.0",
            "_view_name": "HBoxView",
            "box_style": "",
            "children": [
              "IPY_MODEL_9a7dbc169d2d4389a054d760f60ed00b",
              "IPY_MODEL_a18263fa37d14c08b37aba076f5ac0aa",
              "IPY_MODEL_61def88df19748178c0a28ecbb599d72"
            ],
            "layout": "IPY_MODEL_5d3e1b91704748e8a9f89de41dc3b552"
          }
        },
        "9a7dbc169d2d4389a054d760f60ed00b": {
          "model_module": "@jupyter-widgets/controls",
          "model_name": "HTMLModel",
          "model_module_version": "1.5.0",
          "state": {
            "_dom_classes": [],
            "_model_module": "@jupyter-widgets/controls",
            "_model_module_version": "1.5.0",
            "_model_name": "HTMLModel",
            "_view_count": null,
            "_view_module": "@jupyter-widgets/controls",
            "_view_module_version": "1.5.0",
            "_view_name": "HTMLView",
            "description": "",
            "description_tooltip": null,
            "layout": "IPY_MODEL_bdbdcfb2152b4baba3a8fb709c461aba",
            "placeholder": "​",
            "style": "IPY_MODEL_b444494b415146c0add98fdb0fa7f308",
            "value": "100%"
          }
        },
        "a18263fa37d14c08b37aba076f5ac0aa": {
          "model_module": "@jupyter-widgets/controls",
          "model_name": "FloatProgressModel",
          "model_module_version": "1.5.0",
          "state": {
            "_dom_classes": [],
            "_model_module": "@jupyter-widgets/controls",
            "_model_module_version": "1.5.0",
            "_model_name": "FloatProgressModel",
            "_view_count": null,
            "_view_module": "@jupyter-widgets/controls",
            "_view_module_version": "1.5.0",
            "_view_name": "ProgressView",
            "bar_style": "success",
            "description": "",
            "description_tooltip": null,
            "layout": "IPY_MODEL_e7180d70874b426a8cb399ac956dcb26",
            "max": 243346528,
            "min": 0,
            "orientation": "horizontal",
            "style": "IPY_MODEL_60086dd8f8d84d2992e516801e460dd8",
            "value": 243346528
          }
        },
        "61def88df19748178c0a28ecbb599d72": {
          "model_module": "@jupyter-widgets/controls",
          "model_name": "HTMLModel",
          "model_module_version": "1.5.0",
          "state": {
            "_dom_classes": [],
            "_model_module": "@jupyter-widgets/controls",
            "_model_module_version": "1.5.0",
            "_model_name": "HTMLModel",
            "_view_count": null,
            "_view_module": "@jupyter-widgets/controls",
            "_view_module_version": "1.5.0",
            "_view_name": "HTMLView",
            "description": "",
            "description_tooltip": null,
            "layout": "IPY_MODEL_d91baf5feb7b4ab1ba4b1d28b99905af",
            "placeholder": "​",
            "style": "IPY_MODEL_7fb556de37ab4a4e8ea11010ed74dd01",
            "value": " 243346528/243346528 [00:02&lt;00:00, 115317094.03it/s]"
          }
        },
        "5d3e1b91704748e8a9f89de41dc3b552": {
          "model_module": "@jupyter-widgets/base",
          "model_name": "LayoutModel",
          "model_module_version": "1.2.0",
          "state": {
            "_model_module": "@jupyter-widgets/base",
            "_model_module_version": "1.2.0",
            "_model_name": "LayoutModel",
            "_view_count": null,
            "_view_module": "@jupyter-widgets/base",
            "_view_module_version": "1.2.0",
            "_view_name": "LayoutView",
            "align_content": null,
            "align_items": null,
            "align_self": null,
            "border": null,
            "bottom": null,
            "display": null,
            "flex": null,
            "flex_flow": null,
            "grid_area": null,
            "grid_auto_columns": null,
            "grid_auto_flow": null,
            "grid_auto_rows": null,
            "grid_column": null,
            "grid_gap": null,
            "grid_row": null,
            "grid_template_areas": null,
            "grid_template_columns": null,
            "grid_template_rows": null,
            "height": null,
            "justify_content": null,
            "justify_items": null,
            "left": null,
            "margin": null,
            "max_height": null,
            "max_width": null,
            "min_height": null,
            "min_width": null,
            "object_fit": null,
            "object_position": null,
            "order": null,
            "overflow": null,
            "overflow_x": null,
            "overflow_y": null,
            "padding": null,
            "right": null,
            "top": null,
            "visibility": null,
            "width": null
          }
        },
        "bdbdcfb2152b4baba3a8fb709c461aba": {
          "model_module": "@jupyter-widgets/base",
          "model_name": "LayoutModel",
          "model_module_version": "1.2.0",
          "state": {
            "_model_module": "@jupyter-widgets/base",
            "_model_module_version": "1.2.0",
            "_model_name": "LayoutModel",
            "_view_count": null,
            "_view_module": "@jupyter-widgets/base",
            "_view_module_version": "1.2.0",
            "_view_name": "LayoutView",
            "align_content": null,
            "align_items": null,
            "align_self": null,
            "border": null,
            "bottom": null,
            "display": null,
            "flex": null,
            "flex_flow": null,
            "grid_area": null,
            "grid_auto_columns": null,
            "grid_auto_flow": null,
            "grid_auto_rows": null,
            "grid_column": null,
            "grid_gap": null,
            "grid_row": null,
            "grid_template_areas": null,
            "grid_template_columns": null,
            "grid_template_rows": null,
            "height": null,
            "justify_content": null,
            "justify_items": null,
            "left": null,
            "margin": null,
            "max_height": null,
            "max_width": null,
            "min_height": null,
            "min_width": null,
            "object_fit": null,
            "object_position": null,
            "order": null,
            "overflow": null,
            "overflow_x": null,
            "overflow_y": null,
            "padding": null,
            "right": null,
            "top": null,
            "visibility": null,
            "width": null
          }
        },
        "b444494b415146c0add98fdb0fa7f308": {
          "model_module": "@jupyter-widgets/controls",
          "model_name": "DescriptionStyleModel",
          "model_module_version": "1.5.0",
          "state": {
            "_model_module": "@jupyter-widgets/controls",
            "_model_module_version": "1.5.0",
            "_model_name": "DescriptionStyleModel",
            "_view_count": null,
            "_view_module": "@jupyter-widgets/base",
            "_view_module_version": "1.2.0",
            "_view_name": "StyleView",
            "description_width": ""
          }
        },
        "e7180d70874b426a8cb399ac956dcb26": {
          "model_module": "@jupyter-widgets/base",
          "model_name": "LayoutModel",
          "model_module_version": "1.2.0",
          "state": {
            "_model_module": "@jupyter-widgets/base",
            "_model_module_version": "1.2.0",
            "_model_name": "LayoutModel",
            "_view_count": null,
            "_view_module": "@jupyter-widgets/base",
            "_view_module_version": "1.2.0",
            "_view_name": "LayoutView",
            "align_content": null,
            "align_items": null,
            "align_self": null,
            "border": null,
            "bottom": null,
            "display": null,
            "flex": null,
            "flex_flow": null,
            "grid_area": null,
            "grid_auto_columns": null,
            "grid_auto_flow": null,
            "grid_auto_rows": null,
            "grid_column": null,
            "grid_gap": null,
            "grid_row": null,
            "grid_template_areas": null,
            "grid_template_columns": null,
            "grid_template_rows": null,
            "height": null,
            "justify_content": null,
            "justify_items": null,
            "left": null,
            "margin": null,
            "max_height": null,
            "max_width": null,
            "min_height": null,
            "min_width": null,
            "object_fit": null,
            "object_position": null,
            "order": null,
            "overflow": null,
            "overflow_x": null,
            "overflow_y": null,
            "padding": null,
            "right": null,
            "top": null,
            "visibility": null,
            "width": null
          }
        },
        "60086dd8f8d84d2992e516801e460dd8": {
          "model_module": "@jupyter-widgets/controls",
          "model_name": "ProgressStyleModel",
          "model_module_version": "1.5.0",
          "state": {
            "_model_module": "@jupyter-widgets/controls",
            "_model_module_version": "1.5.0",
            "_model_name": "ProgressStyleModel",
            "_view_count": null,
            "_view_module": "@jupyter-widgets/base",
            "_view_module_version": "1.2.0",
            "_view_name": "StyleView",
            "bar_color": null,
            "description_width": ""
          }
        },
        "d91baf5feb7b4ab1ba4b1d28b99905af": {
          "model_module": "@jupyter-widgets/base",
          "model_name": "LayoutModel",
          "model_module_version": "1.2.0",
          "state": {
            "_model_module": "@jupyter-widgets/base",
            "_model_module_version": "1.2.0",
            "_model_name": "LayoutModel",
            "_view_count": null,
            "_view_module": "@jupyter-widgets/base",
            "_view_module_version": "1.2.0",
            "_view_name": "LayoutView",
            "align_content": null,
            "align_items": null,
            "align_self": null,
            "border": null,
            "bottom": null,
            "display": null,
            "flex": null,
            "flex_flow": null,
            "grid_area": null,
            "grid_auto_columns": null,
            "grid_auto_flow": null,
            "grid_auto_rows": null,
            "grid_column": null,
            "grid_gap": null,
            "grid_row": null,
            "grid_template_areas": null,
            "grid_template_columns": null,
            "grid_template_rows": null,
            "height": null,
            "justify_content": null,
            "justify_items": null,
            "left": null,
            "margin": null,
            "max_height": null,
            "max_width": null,
            "min_height": null,
            "min_width": null,
            "object_fit": null,
            "object_position": null,
            "order": null,
            "overflow": null,
            "overflow_x": null,
            "overflow_y": null,
            "padding": null,
            "right": null,
            "top": null,
            "visibility": null,
            "width": null
          }
        },
        "7fb556de37ab4a4e8ea11010ed74dd01": {
          "model_module": "@jupyter-widgets/controls",
          "model_name": "DescriptionStyleModel",
          "model_module_version": "1.5.0",
          "state": {
            "_model_module": "@jupyter-widgets/controls",
            "_model_module_version": "1.5.0",
            "_model_name": "DescriptionStyleModel",
            "_view_count": null,
            "_view_module": "@jupyter-widgets/base",
            "_view_module_version": "1.2.0",
            "_view_name": "StyleView",
            "description_width": ""
          }
        },
        "d0e7acba0ff64f11aa2a05353b9940cc": {
          "model_module": "@jupyter-widgets/controls",
          "model_name": "HBoxModel",
          "model_module_version": "1.5.0",
          "state": {
            "_dom_classes": [],
            "_model_module": "@jupyter-widgets/controls",
            "_model_module_version": "1.5.0",
            "_model_name": "HBoxModel",
            "_view_count": null,
            "_view_module": "@jupyter-widgets/controls",
            "_view_module_version": "1.5.0",
            "_view_name": "HBoxView",
            "box_style": "",
            "children": [
              "IPY_MODEL_71b3a65c4c0940a98774220e86835b50",
              "IPY_MODEL_48ed1560dffc442a86ba6ac746fd7140",
              "IPY_MODEL_060ed84891164f1e89461286cd8a759d"
            ],
            "layout": "IPY_MODEL_c0fc76ef12624d84a45f655181732f7c"
          }
        },
        "71b3a65c4c0940a98774220e86835b50": {
          "model_module": "@jupyter-widgets/controls",
          "model_name": "HTMLModel",
          "model_module_version": "1.5.0",
          "state": {
            "_dom_classes": [],
            "_model_module": "@jupyter-widgets/controls",
            "_model_module_version": "1.5.0",
            "_model_name": "HTMLModel",
            "_view_count": null,
            "_view_module": "@jupyter-widgets/controls",
            "_view_module_version": "1.5.0",
            "_view_name": "HTMLView",
            "description": "",
            "description_tooltip": null,
            "layout": "IPY_MODEL_d0b8a097af6b4561aaca5d8845730bdc",
            "placeholder": "​",
            "style": "IPY_MODEL_ac58bb11c3cb4e5a810e58ddb6a49d23",
            "value": "100%"
          }
        },
        "48ed1560dffc442a86ba6ac746fd7140": {
          "model_module": "@jupyter-widgets/controls",
          "model_name": "FloatProgressModel",
          "model_module_version": "1.5.0",
          "state": {
            "_dom_classes": [],
            "_model_module": "@jupyter-widgets/controls",
            "_model_module_version": "1.5.0",
            "_model_name": "FloatProgressModel",
            "_view_count": null,
            "_view_module": "@jupyter-widgets/controls",
            "_view_module_version": "1.5.0",
            "_view_name": "ProgressView",
            "bar_style": "success",
            "description": "",
            "description_tooltip": null,
            "layout": "IPY_MODEL_34e7d0592bb1414a992026a1455b2e54",
            "max": 66403,
            "min": 0,
            "orientation": "horizontal",
            "style": "IPY_MODEL_dd392c6dcb5449a380c95ac4580b5de5",
            "value": 66403
          }
        },
        "060ed84891164f1e89461286cd8a759d": {
          "model_module": "@jupyter-widgets/controls",
          "model_name": "HTMLModel",
          "model_module_version": "1.5.0",
          "state": {
            "_dom_classes": [],
            "_model_module": "@jupyter-widgets/controls",
            "_model_module_version": "1.5.0",
            "_model_name": "HTMLModel",
            "_view_count": null,
            "_view_module": "@jupyter-widgets/controls",
            "_view_module_version": "1.5.0",
            "_view_name": "HTMLView",
            "description": "",
            "description_tooltip": null,
            "layout": "IPY_MODEL_b7bfc4496a994afcba0520bfc5da7d0a",
            "placeholder": "​",
            "style": "IPY_MODEL_1d460f989f1544af8c21ab1857e16027",
            "value": " 66403/66403 [00:00&lt;00:00, 1690383.63it/s]"
          }
        },
        "c0fc76ef12624d84a45f655181732f7c": {
          "model_module": "@jupyter-widgets/base",
          "model_name": "LayoutModel",
          "model_module_version": "1.2.0",
          "state": {
            "_model_module": "@jupyter-widgets/base",
            "_model_module_version": "1.2.0",
            "_model_name": "LayoutModel",
            "_view_count": null,
            "_view_module": "@jupyter-widgets/base",
            "_view_module_version": "1.2.0",
            "_view_name": "LayoutView",
            "align_content": null,
            "align_items": null,
            "align_self": null,
            "border": null,
            "bottom": null,
            "display": null,
            "flex": null,
            "flex_flow": null,
            "grid_area": null,
            "grid_auto_columns": null,
            "grid_auto_flow": null,
            "grid_auto_rows": null,
            "grid_column": null,
            "grid_gap": null,
            "grid_row": null,
            "grid_template_areas": null,
            "grid_template_columns": null,
            "grid_template_rows": null,
            "height": null,
            "justify_content": null,
            "justify_items": null,
            "left": null,
            "margin": null,
            "max_height": null,
            "max_width": null,
            "min_height": null,
            "min_width": null,
            "object_fit": null,
            "object_position": null,
            "order": null,
            "overflow": null,
            "overflow_x": null,
            "overflow_y": null,
            "padding": null,
            "right": null,
            "top": null,
            "visibility": null,
            "width": null
          }
        },
        "d0b8a097af6b4561aaca5d8845730bdc": {
          "model_module": "@jupyter-widgets/base",
          "model_name": "LayoutModel",
          "model_module_version": "1.2.0",
          "state": {
            "_model_module": "@jupyter-widgets/base",
            "_model_module_version": "1.2.0",
            "_model_name": "LayoutModel",
            "_view_count": null,
            "_view_module": "@jupyter-widgets/base",
            "_view_module_version": "1.2.0",
            "_view_name": "LayoutView",
            "align_content": null,
            "align_items": null,
            "align_self": null,
            "border": null,
            "bottom": null,
            "display": null,
            "flex": null,
            "flex_flow": null,
            "grid_area": null,
            "grid_auto_columns": null,
            "grid_auto_flow": null,
            "grid_auto_rows": null,
            "grid_column": null,
            "grid_gap": null,
            "grid_row": null,
            "grid_template_areas": null,
            "grid_template_columns": null,
            "grid_template_rows": null,
            "height": null,
            "justify_content": null,
            "justify_items": null,
            "left": null,
            "margin": null,
            "max_height": null,
            "max_width": null,
            "min_height": null,
            "min_width": null,
            "object_fit": null,
            "object_position": null,
            "order": null,
            "overflow": null,
            "overflow_x": null,
            "overflow_y": null,
            "padding": null,
            "right": null,
            "top": null,
            "visibility": null,
            "width": null
          }
        },
        "ac58bb11c3cb4e5a810e58ddb6a49d23": {
          "model_module": "@jupyter-widgets/controls",
          "model_name": "DescriptionStyleModel",
          "model_module_version": "1.5.0",
          "state": {
            "_model_module": "@jupyter-widgets/controls",
            "_model_module_version": "1.5.0",
            "_model_name": "DescriptionStyleModel",
            "_view_count": null,
            "_view_module": "@jupyter-widgets/base",
            "_view_module_version": "1.2.0",
            "_view_name": "StyleView",
            "description_width": ""
          }
        },
        "34e7d0592bb1414a992026a1455b2e54": {
          "model_module": "@jupyter-widgets/base",
          "model_name": "LayoutModel",
          "model_module_version": "1.2.0",
          "state": {
            "_model_module": "@jupyter-widgets/base",
            "_model_module_version": "1.2.0",
            "_model_name": "LayoutModel",
            "_view_count": null,
            "_view_module": "@jupyter-widgets/base",
            "_view_module_version": "1.2.0",
            "_view_name": "LayoutView",
            "align_content": null,
            "align_items": null,
            "align_self": null,
            "border": null,
            "bottom": null,
            "display": null,
            "flex": null,
            "flex_flow": null,
            "grid_area": null,
            "grid_auto_columns": null,
            "grid_auto_flow": null,
            "grid_auto_rows": null,
            "grid_column": null,
            "grid_gap": null,
            "grid_row": null,
            "grid_template_areas": null,
            "grid_template_columns": null,
            "grid_template_rows": null,
            "height": null,
            "justify_content": null,
            "justify_items": null,
            "left": null,
            "margin": null,
            "max_height": null,
            "max_width": null,
            "min_height": null,
            "min_width": null,
            "object_fit": null,
            "object_position": null,
            "order": null,
            "overflow": null,
            "overflow_x": null,
            "overflow_y": null,
            "padding": null,
            "right": null,
            "top": null,
            "visibility": null,
            "width": null
          }
        },
        "dd392c6dcb5449a380c95ac4580b5de5": {
          "model_module": "@jupyter-widgets/controls",
          "model_name": "ProgressStyleModel",
          "model_module_version": "1.5.0",
          "state": {
            "_model_module": "@jupyter-widgets/controls",
            "_model_module_version": "1.5.0",
            "_model_name": "ProgressStyleModel",
            "_view_count": null,
            "_view_module": "@jupyter-widgets/base",
            "_view_module_version": "1.2.0",
            "_view_name": "StyleView",
            "bar_color": null,
            "description_width": ""
          }
        },
        "b7bfc4496a994afcba0520bfc5da7d0a": {
          "model_module": "@jupyter-widgets/base",
          "model_name": "LayoutModel",
          "model_module_version": "1.2.0",
          "state": {
            "_model_module": "@jupyter-widgets/base",
            "_model_module_version": "1.2.0",
            "_model_name": "LayoutModel",
            "_view_count": null,
            "_view_module": "@jupyter-widgets/base",
            "_view_module_version": "1.2.0",
            "_view_name": "LayoutView",
            "align_content": null,
            "align_items": null,
            "align_self": null,
            "border": null,
            "bottom": null,
            "display": null,
            "flex": null,
            "flex_flow": null,
            "grid_area": null,
            "grid_auto_columns": null,
            "grid_auto_flow": null,
            "grid_auto_rows": null,
            "grid_column": null,
            "grid_gap": null,
            "grid_row": null,
            "grid_template_areas": null,
            "grid_template_columns": null,
            "grid_template_rows": null,
            "height": null,
            "justify_content": null,
            "justify_items": null,
            "left": null,
            "margin": null,
            "max_height": null,
            "max_width": null,
            "min_height": null,
            "min_width": null,
            "object_fit": null,
            "object_position": null,
            "order": null,
            "overflow": null,
            "overflow_x": null,
            "overflow_y": null,
            "padding": null,
            "right": null,
            "top": null,
            "visibility": null,
            "width": null
          }
        },
        "1d460f989f1544af8c21ab1857e16027": {
          "model_module": "@jupyter-widgets/controls",
          "model_name": "DescriptionStyleModel",
          "model_module_version": "1.5.0",
          "state": {
            "_model_module": "@jupyter-widgets/controls",
            "_model_module_version": "1.5.0",
            "_model_name": "DescriptionStyleModel",
            "_view_count": null,
            "_view_module": "@jupyter-widgets/base",
            "_view_module_version": "1.2.0",
            "_view_name": "StyleView",
            "description_width": ""
          }
        },
        "a8251786c39647a990e87abe8deb1880": {
          "model_module": "@jupyter-widgets/controls",
          "model_name": "HBoxModel",
          "model_module_version": "1.5.0",
          "state": {
            "_dom_classes": [],
            "_model_module": "@jupyter-widgets/controls",
            "_model_module_version": "1.5.0",
            "_model_name": "HBoxModel",
            "_view_count": null,
            "_view_module": "@jupyter-widgets/controls",
            "_view_module_version": "1.5.0",
            "_view_name": "HBoxView",
            "box_style": "",
            "children": [
              "IPY_MODEL_3c59ce59352a43aebcbde9cced4ffbcd",
              "IPY_MODEL_71be659a955e41e3b3c6962881aeed9e",
              "IPY_MODEL_8b4912fcae8e40598d912978cd41e101"
            ],
            "layout": "IPY_MODEL_b2a8c00d841e4ae8a296c7ef3b808100"
          }
        },
        "3c59ce59352a43aebcbde9cced4ffbcd": {
          "model_module": "@jupyter-widgets/controls",
          "model_name": "HTMLModel",
          "model_module_version": "1.5.0",
          "state": {
            "_dom_classes": [],
            "_model_module": "@jupyter-widgets/controls",
            "_model_module_version": "1.5.0",
            "_model_name": "HTMLModel",
            "_view_count": null,
            "_view_module": "@jupyter-widgets/controls",
            "_view_module_version": "1.5.0",
            "_view_name": "HTMLView",
            "description": "",
            "description_tooltip": null,
            "layout": "IPY_MODEL_70f0a9cc67bc47019abc71a3b5bcb7d3",
            "placeholder": "​",
            "style": "IPY_MODEL_d952bf672e1048e9a25c92f203d5aad4",
            "value": "100%"
          }
        },
        "71be659a955e41e3b3c6962881aeed9e": {
          "model_module": "@jupyter-widgets/controls",
          "model_name": "FloatProgressModel",
          "model_module_version": "1.5.0",
          "state": {
            "_dom_classes": [],
            "_model_module": "@jupyter-widgets/controls",
            "_model_module_version": "1.5.0",
            "_model_name": "FloatProgressModel",
            "_view_count": null,
            "_view_module": "@jupyter-widgets/controls",
            "_view_module_version": "1.5.0",
            "_view_name": "ProgressView",
            "bar_style": "success",
            "description": "",
            "description_tooltip": null,
            "layout": "IPY_MODEL_5de09f191f7e4963a28b00ebfd6abd1d",
            "max": 94727,
            "min": 0,
            "orientation": "horizontal",
            "style": "IPY_MODEL_94b0323b91cc4af3a0e45733468128d8",
            "value": 94727
          }
        },
        "8b4912fcae8e40598d912978cd41e101": {
          "model_module": "@jupyter-widgets/controls",
          "model_name": "HTMLModel",
          "model_module_version": "1.5.0",
          "state": {
            "_dom_classes": [],
            "_model_module": "@jupyter-widgets/controls",
            "_model_module_version": "1.5.0",
            "_model_name": "HTMLModel",
            "_view_count": null,
            "_view_module": "@jupyter-widgets/controls",
            "_view_module_version": "1.5.0",
            "_view_name": "HTMLView",
            "description": "",
            "description_tooltip": null,
            "layout": "IPY_MODEL_fdd3a350107c475ca71e254958f206f6",
            "placeholder": "​",
            "style": "IPY_MODEL_8368df1b796541c5bfe5d4d0b6d74b18",
            "value": " 94727/94727 [00:00&lt;00:00, 1921599.88it/s]"
          }
        },
        "b2a8c00d841e4ae8a296c7ef3b808100": {
          "model_module": "@jupyter-widgets/base",
          "model_name": "LayoutModel",
          "model_module_version": "1.2.0",
          "state": {
            "_model_module": "@jupyter-widgets/base",
            "_model_module_version": "1.2.0",
            "_model_name": "LayoutModel",
            "_view_count": null,
            "_view_module": "@jupyter-widgets/base",
            "_view_module_version": "1.2.0",
            "_view_name": "LayoutView",
            "align_content": null,
            "align_items": null,
            "align_self": null,
            "border": null,
            "bottom": null,
            "display": null,
            "flex": null,
            "flex_flow": null,
            "grid_area": null,
            "grid_auto_columns": null,
            "grid_auto_flow": null,
            "grid_auto_rows": null,
            "grid_column": null,
            "grid_gap": null,
            "grid_row": null,
            "grid_template_areas": null,
            "grid_template_columns": null,
            "grid_template_rows": null,
            "height": null,
            "justify_content": null,
            "justify_items": null,
            "left": null,
            "margin": null,
            "max_height": null,
            "max_width": null,
            "min_height": null,
            "min_width": null,
            "object_fit": null,
            "object_position": null,
            "order": null,
            "overflow": null,
            "overflow_x": null,
            "overflow_y": null,
            "padding": null,
            "right": null,
            "top": null,
            "visibility": null,
            "width": null
          }
        },
        "70f0a9cc67bc47019abc71a3b5bcb7d3": {
          "model_module": "@jupyter-widgets/base",
          "model_name": "LayoutModel",
          "model_module_version": "1.2.0",
          "state": {
            "_model_module": "@jupyter-widgets/base",
            "_model_module_version": "1.2.0",
            "_model_name": "LayoutModel",
            "_view_count": null,
            "_view_module": "@jupyter-widgets/base",
            "_view_module_version": "1.2.0",
            "_view_name": "LayoutView",
            "align_content": null,
            "align_items": null,
            "align_self": null,
            "border": null,
            "bottom": null,
            "display": null,
            "flex": null,
            "flex_flow": null,
            "grid_area": null,
            "grid_auto_columns": null,
            "grid_auto_flow": null,
            "grid_auto_rows": null,
            "grid_column": null,
            "grid_gap": null,
            "grid_row": null,
            "grid_template_areas": null,
            "grid_template_columns": null,
            "grid_template_rows": null,
            "height": null,
            "justify_content": null,
            "justify_items": null,
            "left": null,
            "margin": null,
            "max_height": null,
            "max_width": null,
            "min_height": null,
            "min_width": null,
            "object_fit": null,
            "object_position": null,
            "order": null,
            "overflow": null,
            "overflow_x": null,
            "overflow_y": null,
            "padding": null,
            "right": null,
            "top": null,
            "visibility": null,
            "width": null
          }
        },
        "d952bf672e1048e9a25c92f203d5aad4": {
          "model_module": "@jupyter-widgets/controls",
          "model_name": "DescriptionStyleModel",
          "model_module_version": "1.5.0",
          "state": {
            "_model_module": "@jupyter-widgets/controls",
            "_model_module_version": "1.5.0",
            "_model_name": "DescriptionStyleModel",
            "_view_count": null,
            "_view_module": "@jupyter-widgets/base",
            "_view_module_version": "1.2.0",
            "_view_name": "StyleView",
            "description_width": ""
          }
        },
        "5de09f191f7e4963a28b00ebfd6abd1d": {
          "model_module": "@jupyter-widgets/base",
          "model_name": "LayoutModel",
          "model_module_version": "1.2.0",
          "state": {
            "_model_module": "@jupyter-widgets/base",
            "_model_module_version": "1.2.0",
            "_model_name": "LayoutModel",
            "_view_count": null,
            "_view_module": "@jupyter-widgets/base",
            "_view_module_version": "1.2.0",
            "_view_name": "LayoutView",
            "align_content": null,
            "align_items": null,
            "align_self": null,
            "border": null,
            "bottom": null,
            "display": null,
            "flex": null,
            "flex_flow": null,
            "grid_area": null,
            "grid_auto_columns": null,
            "grid_auto_flow": null,
            "grid_auto_rows": null,
            "grid_column": null,
            "grid_gap": null,
            "grid_row": null,
            "grid_template_areas": null,
            "grid_template_columns": null,
            "grid_template_rows": null,
            "height": null,
            "justify_content": null,
            "justify_items": null,
            "left": null,
            "margin": null,
            "max_height": null,
            "max_width": null,
            "min_height": null,
            "min_width": null,
            "object_fit": null,
            "object_position": null,
            "order": null,
            "overflow": null,
            "overflow_x": null,
            "overflow_y": null,
            "padding": null,
            "right": null,
            "top": null,
            "visibility": null,
            "width": null
          }
        },
        "94b0323b91cc4af3a0e45733468128d8": {
          "model_module": "@jupyter-widgets/controls",
          "model_name": "ProgressStyleModel",
          "model_module_version": "1.5.0",
          "state": {
            "_model_module": "@jupyter-widgets/controls",
            "_model_module_version": "1.5.0",
            "_model_name": "ProgressStyleModel",
            "_view_count": null,
            "_view_module": "@jupyter-widgets/base",
            "_view_module_version": "1.2.0",
            "_view_name": "StyleView",
            "bar_color": null,
            "description_width": ""
          }
        },
        "fdd3a350107c475ca71e254958f206f6": {
          "model_module": "@jupyter-widgets/base",
          "model_name": "LayoutModel",
          "model_module_version": "1.2.0",
          "state": {
            "_model_module": "@jupyter-widgets/base",
            "_model_module_version": "1.2.0",
            "_model_name": "LayoutModel",
            "_view_count": null,
            "_view_module": "@jupyter-widgets/base",
            "_view_module_version": "1.2.0",
            "_view_name": "LayoutView",
            "align_content": null,
            "align_items": null,
            "align_self": null,
            "border": null,
            "bottom": null,
            "display": null,
            "flex": null,
            "flex_flow": null,
            "grid_area": null,
            "grid_auto_columns": null,
            "grid_auto_flow": null,
            "grid_auto_rows": null,
            "grid_column": null,
            "grid_gap": null,
            "grid_row": null,
            "grid_template_areas": null,
            "grid_template_columns": null,
            "grid_template_rows": null,
            "height": null,
            "justify_content": null,
            "justify_items": null,
            "left": null,
            "margin": null,
            "max_height": null,
            "max_width": null,
            "min_height": null,
            "min_width": null,
            "object_fit": null,
            "object_position": null,
            "order": null,
            "overflow": null,
            "overflow_x": null,
            "overflow_y": null,
            "padding": null,
            "right": null,
            "top": null,
            "visibility": null,
            "width": null
          }
        },
        "8368df1b796541c5bfe5d4d0b6d74b18": {
          "model_module": "@jupyter-widgets/controls",
          "model_name": "DescriptionStyleModel",
          "model_module_version": "1.5.0",
          "state": {
            "_model_module": "@jupyter-widgets/controls",
            "_model_module_version": "1.5.0",
            "_model_name": "DescriptionStyleModel",
            "_view_count": null,
            "_view_module": "@jupyter-widgets/base",
            "_view_module_version": "1.2.0",
            "_view_name": "StyleView",
            "description_width": ""
          }
        },
        "71eaab9811fd475a8d7550453509ff0f": {
          "model_module": "@jupyter-widgets/controls",
          "model_name": "HBoxModel",
          "model_module_version": "1.5.0",
          "state": {
            "_dom_classes": [],
            "_model_module": "@jupyter-widgets/controls",
            "_model_module_version": "1.5.0",
            "_model_name": "HBoxModel",
            "_view_count": null,
            "_view_module": "@jupyter-widgets/controls",
            "_view_module_version": "1.5.0",
            "_view_name": "HBoxView",
            "box_style": "",
            "children": [
              "IPY_MODEL_a5715a09045d4caaa7be115eed2470fa",
              "IPY_MODEL_86f5827e2d904ae8aa3bb243febf6e8f",
              "IPY_MODEL_ab5580fb4b4f4b0db6f56a6c32ab60e1"
            ],
            "layout": "IPY_MODEL_688d6d3357fd4834b1de1c652c5d44d4"
          }
        },
        "a5715a09045d4caaa7be115eed2470fa": {
          "model_module": "@jupyter-widgets/controls",
          "model_name": "HTMLModel",
          "model_module_version": "1.5.0",
          "state": {
            "_dom_classes": [],
            "_model_module": "@jupyter-widgets/controls",
            "_model_module_version": "1.5.0",
            "_model_name": "HTMLModel",
            "_view_count": null,
            "_view_module": "@jupyter-widgets/controls",
            "_view_module_version": "1.5.0",
            "_view_name": "HTMLView",
            "description": "",
            "description_tooltip": null,
            "layout": "IPY_MODEL_7cd0fd921db24682872e079fae7b4a80",
            "placeholder": "​",
            "style": "IPY_MODEL_987f32881f2648d39e6e4baad34469cf",
            "value": "100%"
          }
        },
        "86f5827e2d904ae8aa3bb243febf6e8f": {
          "model_module": "@jupyter-widgets/controls",
          "model_name": "FloatProgressModel",
          "model_module_version": "1.5.0",
          "state": {
            "_dom_classes": [],
            "_model_module": "@jupyter-widgets/controls",
            "_model_module_version": "1.5.0",
            "_model_name": "FloatProgressModel",
            "_view_count": null,
            "_view_module": "@jupyter-widgets/controls",
            "_view_module_version": "1.5.0",
            "_view_name": "ProgressView",
            "bar_style": "success",
            "description": "",
            "description_tooltip": null,
            "layout": "IPY_MODEL_fef9654f26d64bd99e6c8799c096d1de",
            "max": 28334,
            "min": 0,
            "orientation": "horizontal",
            "style": "IPY_MODEL_eccbaed25e624d3888b9dd09a9fcdecc",
            "value": 28334
          }
        },
        "ab5580fb4b4f4b0db6f56a6c32ab60e1": {
          "model_module": "@jupyter-widgets/controls",
          "model_name": "HTMLModel",
          "model_module_version": "1.5.0",
          "state": {
            "_dom_classes": [],
            "_model_module": "@jupyter-widgets/controls",
            "_model_module_version": "1.5.0",
            "_model_name": "HTMLModel",
            "_view_count": null,
            "_view_module": "@jupyter-widgets/controls",
            "_view_module_version": "1.5.0",
            "_view_name": "HTMLView",
            "description": "",
            "description_tooltip": null,
            "layout": "IPY_MODEL_288bdde3490140f3bb871e7abf5ea273",
            "placeholder": "​",
            "style": "IPY_MODEL_b644d47d21b14c8da0444e5e4914c701",
            "value": " 28334/28334 [00:00&lt;00:00, 878276.94it/s]"
          }
        },
        "688d6d3357fd4834b1de1c652c5d44d4": {
          "model_module": "@jupyter-widgets/base",
          "model_name": "LayoutModel",
          "model_module_version": "1.2.0",
          "state": {
            "_model_module": "@jupyter-widgets/base",
            "_model_module_version": "1.2.0",
            "_model_name": "LayoutModel",
            "_view_count": null,
            "_view_module": "@jupyter-widgets/base",
            "_view_module_version": "1.2.0",
            "_view_name": "LayoutView",
            "align_content": null,
            "align_items": null,
            "align_self": null,
            "border": null,
            "bottom": null,
            "display": null,
            "flex": null,
            "flex_flow": null,
            "grid_area": null,
            "grid_auto_columns": null,
            "grid_auto_flow": null,
            "grid_auto_rows": null,
            "grid_column": null,
            "grid_gap": null,
            "grid_row": null,
            "grid_template_areas": null,
            "grid_template_columns": null,
            "grid_template_rows": null,
            "height": null,
            "justify_content": null,
            "justify_items": null,
            "left": null,
            "margin": null,
            "max_height": null,
            "max_width": null,
            "min_height": null,
            "min_width": null,
            "object_fit": null,
            "object_position": null,
            "order": null,
            "overflow": null,
            "overflow_x": null,
            "overflow_y": null,
            "padding": null,
            "right": null,
            "top": null,
            "visibility": null,
            "width": null
          }
        },
        "7cd0fd921db24682872e079fae7b4a80": {
          "model_module": "@jupyter-widgets/base",
          "model_name": "LayoutModel",
          "model_module_version": "1.2.0",
          "state": {
            "_model_module": "@jupyter-widgets/base",
            "_model_module_version": "1.2.0",
            "_model_name": "LayoutModel",
            "_view_count": null,
            "_view_module": "@jupyter-widgets/base",
            "_view_module_version": "1.2.0",
            "_view_name": "LayoutView",
            "align_content": null,
            "align_items": null,
            "align_self": null,
            "border": null,
            "bottom": null,
            "display": null,
            "flex": null,
            "flex_flow": null,
            "grid_area": null,
            "grid_auto_columns": null,
            "grid_auto_flow": null,
            "grid_auto_rows": null,
            "grid_column": null,
            "grid_gap": null,
            "grid_row": null,
            "grid_template_areas": null,
            "grid_template_columns": null,
            "grid_template_rows": null,
            "height": null,
            "justify_content": null,
            "justify_items": null,
            "left": null,
            "margin": null,
            "max_height": null,
            "max_width": null,
            "min_height": null,
            "min_width": null,
            "object_fit": null,
            "object_position": null,
            "order": null,
            "overflow": null,
            "overflow_x": null,
            "overflow_y": null,
            "padding": null,
            "right": null,
            "top": null,
            "visibility": null,
            "width": null
          }
        },
        "987f32881f2648d39e6e4baad34469cf": {
          "model_module": "@jupyter-widgets/controls",
          "model_name": "DescriptionStyleModel",
          "model_module_version": "1.5.0",
          "state": {
            "_model_module": "@jupyter-widgets/controls",
            "_model_module_version": "1.5.0",
            "_model_name": "DescriptionStyleModel",
            "_view_count": null,
            "_view_module": "@jupyter-widgets/base",
            "_view_module_version": "1.2.0",
            "_view_name": "StyleView",
            "description_width": ""
          }
        },
        "fef9654f26d64bd99e6c8799c096d1de": {
          "model_module": "@jupyter-widgets/base",
          "model_name": "LayoutModel",
          "model_module_version": "1.2.0",
          "state": {
            "_model_module": "@jupyter-widgets/base",
            "_model_module_version": "1.2.0",
            "_model_name": "LayoutModel",
            "_view_count": null,
            "_view_module": "@jupyter-widgets/base",
            "_view_module_version": "1.2.0",
            "_view_name": "LayoutView",
            "align_content": null,
            "align_items": null,
            "align_self": null,
            "border": null,
            "bottom": null,
            "display": null,
            "flex": null,
            "flex_flow": null,
            "grid_area": null,
            "grid_auto_columns": null,
            "grid_auto_flow": null,
            "grid_auto_rows": null,
            "grid_column": null,
            "grid_gap": null,
            "grid_row": null,
            "grid_template_areas": null,
            "grid_template_columns": null,
            "grid_template_rows": null,
            "height": null,
            "justify_content": null,
            "justify_items": null,
            "left": null,
            "margin": null,
            "max_height": null,
            "max_width": null,
            "min_height": null,
            "min_width": null,
            "object_fit": null,
            "object_position": null,
            "order": null,
            "overflow": null,
            "overflow_x": null,
            "overflow_y": null,
            "padding": null,
            "right": null,
            "top": null,
            "visibility": null,
            "width": null
          }
        },
        "eccbaed25e624d3888b9dd09a9fcdecc": {
          "model_module": "@jupyter-widgets/controls",
          "model_name": "ProgressStyleModel",
          "model_module_version": "1.5.0",
          "state": {
            "_model_module": "@jupyter-widgets/controls",
            "_model_module_version": "1.5.0",
            "_model_name": "ProgressStyleModel",
            "_view_count": null,
            "_view_module": "@jupyter-widgets/base",
            "_view_module_version": "1.2.0",
            "_view_name": "StyleView",
            "bar_color": null,
            "description_width": ""
          }
        },
        "288bdde3490140f3bb871e7abf5ea273": {
          "model_module": "@jupyter-widgets/base",
          "model_name": "LayoutModel",
          "model_module_version": "1.2.0",
          "state": {
            "_model_module": "@jupyter-widgets/base",
            "_model_module_version": "1.2.0",
            "_model_name": "LayoutModel",
            "_view_count": null,
            "_view_module": "@jupyter-widgets/base",
            "_view_module_version": "1.2.0",
            "_view_name": "LayoutView",
            "align_content": null,
            "align_items": null,
            "align_self": null,
            "border": null,
            "bottom": null,
            "display": null,
            "flex": null,
            "flex_flow": null,
            "grid_area": null,
            "grid_auto_columns": null,
            "grid_auto_flow": null,
            "grid_auto_rows": null,
            "grid_column": null,
            "grid_gap": null,
            "grid_row": null,
            "grid_template_areas": null,
            "grid_template_columns": null,
            "grid_template_rows": null,
            "height": null,
            "justify_content": null,
            "justify_items": null,
            "left": null,
            "margin": null,
            "max_height": null,
            "max_width": null,
            "min_height": null,
            "min_width": null,
            "object_fit": null,
            "object_position": null,
            "order": null,
            "overflow": null,
            "overflow_x": null,
            "overflow_y": null,
            "padding": null,
            "right": null,
            "top": null,
            "visibility": null,
            "width": null
          }
        },
        "b644d47d21b14c8da0444e5e4914c701": {
          "model_module": "@jupyter-widgets/controls",
          "model_name": "DescriptionStyleModel",
          "model_module_version": "1.5.0",
          "state": {
            "_model_module": "@jupyter-widgets/controls",
            "_model_module_version": "1.5.0",
            "_model_name": "DescriptionStyleModel",
            "_view_count": null,
            "_view_module": "@jupyter-widgets/base",
            "_view_module_version": "1.2.0",
            "_view_name": "StyleView",
            "description_width": ""
          }
        }
      }
    }
  },
  "nbformat": 4,
  "nbformat_minor": 0
}