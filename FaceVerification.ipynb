{
  "cells": [
    {
      "cell_type": "markdown",
      "metadata": {
        "id": "view-in-github",
        "colab_type": "text"
      },
      "source": [
        "<a href=\"https://colab.research.google.com/github/Ramubala/face-recognition/blob/main/FaceVerification.ipynb\" target=\"_parent\"><img src=\"https://colab.research.google.com/assets/colab-badge.svg\" alt=\"Open In Colab\"/></a>"
      ]
    },
    {
      "cell_type": "code",
      "execution_count": 1355,
      "metadata": {
        "id": "Ln7J3c8o8KYO"
      },
      "outputs": [],
      "source": [
        "# from google.colab import drive\n",
        "# drive.mount('/content/drive')"
      ]
    },
    {
      "cell_type": "code",
      "execution_count": 1356,
      "metadata": {
        "id": "XLi8zXT69zPx"
      },
      "outputs": [],
      "source": [
        "# !rm -rf '/content/data' \n",
        "# !rm -rf '/content/annotations'"
      ]
    },
    {
      "cell_type": "code",
      "execution_count": 1357,
      "metadata": {
        "id": "B09KJnMY8Rd8"
      },
      "outputs": [],
      "source": [
        "# !mkdir data\n",
        "# !mkdir annotations\n",
        "# !tar zxvf '/content/drive/MyDrive/datasets/originalPics.tar.gz' -C '/content/data/' ;\n",
        "# !tar zxvf '/content/drive/MyDrive/datasets/FDDB-folds.tgz' -C '/content/annotations/';"
      ]
    },
    {
      "cell_type": "code",
      "execution_count": 1358,
      "metadata": {
        "id": "6rfEZudLz-mj"
      },
      "outputs": [],
      "source": [
        "# import glob\n",
        "# file_list = [file for file in glob.glob(r'/content/annotations/FDDB-folds/*-ellipseList.txt',recursive=True)]\n",
        "# train_files, test_files = file_list[:9],[file_list[9]]\n",
        "# print(train_files, test_files)"
      ]
    },
    {
      "cell_type": "code",
      "execution_count": 1359,
      "metadata": {
        "id": "I3Q9YHTxgKSZ"
      },
      "outputs": [],
      "source": [
        "#custom_train_dataset[2]"
      ]
    },
    {
      "cell_type": "code",
      "execution_count": 1360,
      "metadata": {
        "id": "vvYI7hIN2Ulz"
      },
      "outputs": [],
      "source": [
        "# def per_person_stats(source_txt: str):\n",
        "#   stats_dict=dict()\n",
        "#   with open(source_txt,'r') as f:\n",
        "#     data = f.readlines()\n",
        "#     for i in range(1, len(data)):\n",
        "#       line = data[i].strip().split(\"\\t\")\n",
        "#       stats_dict[line[0]] = int(line[1])\n",
        "#   f.close()\n",
        "#   return stats_dict"
      ]
    },
    {
      "cell_type": "code",
      "execution_count": 1361,
      "metadata": {
        "id": "7m0TnlkV0gRe"
      },
      "outputs": [],
      "source": [
        "# def pick_train_pairs(_dict, num_per_sample, num_negative_faces_per_sample):\n",
        "#   if num_per_sample!=3:\n",
        "#     raise Exception(\"only 3 per sample supported by algorithm\")\n",
        "#   allfaces = list(_dict.keys())\n",
        "#   data = []\n",
        "#   for key in allfaces:\n",
        "#     # anchor and postive example\n",
        "#     facepath = '/content/data/lfw-py/lfw_funneled/{}'.format(key)\n",
        "#     available_images = [file for file in glob.glob(facepath+'/*.jpg')]\n",
        "#     num_available_images = _dict[key]\n",
        "#     num_achor_postive_pairs = num_available_images*(num_available_images-1)\n",
        "#     if num_achor_postive_pairs==0:\n",
        "#       combinations = [(available_images[0],available_images[0])]\n",
        "#     else:\n",
        "#       combinations = list(itertools.combinations(available_images, 2))\n",
        "\n",
        "#     # negative face\n",
        "#     possible_choices = [v for v in allfaces if v != key]\n",
        "#     negative_examples = random.sample(possible_choices, num_negative_faces_per_sample)\n",
        "#     for negative_example in negative_examples:\n",
        "#       negfacepath = '/content/data/lfw-py/lfw_funneled/{}'.format(negative_example)\n",
        "#       available_images = [file for file in glob.glob(negfacepath+'/*.jpg')]\n",
        "#       neg_imgpath = random.choice(available_images)\n",
        "\n",
        "#       for tuple_el in combinations:\n",
        "#         data.append((tuple_el[0],tuple_el[1],neg_imgpath))\n",
        "#   return data  "
      ]
    },
    {
      "cell_type": "code",
      "execution_count": 1362,
      "metadata": {
        "id": "pQC6z6BM1h6Z"
      },
      "outputs": [],
      "source": [
        "# train_txt_file = '/content/data/lfw-py/peopleDevTrain.txt'\n",
        "# test_txt_file = '/content/data/lfw-py/peopleDevTest.txt'\n",
        "# train_stats = per_person_stats(train_txt_file)\n",
        "# test_stats = per_person_stats(test_txt_file)"
      ]
    },
    {
      "cell_type": "code",
      "execution_count": 1363,
      "metadata": {
        "id": "b-NpiT7c3cjb"
      },
      "outputs": [],
      "source": [
        "#test_stats.keys() & train_stats.keys()"
      ]
    },
    {
      "cell_type": "code",
      "execution_count": 1364,
      "metadata": {
        "id": "k4LepwlE3veJ"
      },
      "outputs": [],
      "source": [
        "# train_data = pick_train_pairs(train_stats, 3, 5)"
      ]
    },
    {
      "cell_type": "code",
      "source": [
        "# !pip install -q condacolab\n",
        "# import condacolab\n",
        "# condacolab.install()\n",
        "# !conda install cudnn=8.3.2\n",
        "\n",
        "# VERSION = \"20200318\" #@param [\"20200318\",\"nightly\", \"xrt==1.15.0\"]\n",
        "# !curl https://raw.githubusercontent.com/pytorch/xla/master/contrib/scripts/env-setup.py -o pytorch-xla-env-setup.py\n",
        "# !python pytorch-xla-env-setup.py --version $VERSION"
      ],
      "metadata": {
        "id": "q8w39uvsrLV2"
      },
      "execution_count": 1365,
      "outputs": []
    },
    {
      "cell_type": "code",
      "execution_count": 1366,
      "metadata": {
        "id": "M4eBeNfY1pga"
      },
      "outputs": [],
      "source": [
        "import torchvision\n",
        "import torch\n",
        "import os\n",
        "import glob\n",
        "import numpy as np\n",
        "import itertools\n",
        "import random\n",
        "random.seed(42)\n",
        "from torch.utils.data import DataLoader,Dataset,Sampler\n",
        "import torchvision.transforms as transforms\n",
        "# import torch_xla\n",
        "# import torch_xla.core.xla_model as xm"
      ]
    },
    {
      "cell_type": "code",
      "execution_count": 1367,
      "metadata": {
        "id": "9zK0a1Fz1hvc"
      },
      "outputs": [],
      "source": [
        "#train_dataset = torchvision.datasets.LFWPeople('/content/data/',split='train',download=True)\n",
        "#test_dataset = torchvision.datasets.LFWPeople('/content/data/',split='test',download=True)\n",
        "\n",
        "#train_dataset = torchvision.datasets.MNIST('/content/data/',train=True,download=True)\n",
        "#test_dataset = torchvision.datasets.MNIST('/content/data/',train=False,download=True)\n",
        "mean, std = 0.28604059698879553, 0.35302424451492237\n",
        "\n",
        "train_dataset = torchvision.datasets.FashionMNIST('./content/data/FashionMNIST', train=True, download=True,\n",
        "                             transform=transforms.Compose([\n",
        "                                 transforms.ToTensor(),\n",
        "                                 transforms.Normalize((mean,), (std,))\n",
        "                             ]))\n",
        "test_dataset = torchvision.datasets.FashionMNIST('/content/data/FashionMNIST', train=False, download=True,\n",
        "                            transform=transforms.Compose([\n",
        "                                transforms.ToTensor(),\n",
        "                                transforms.Normalize((mean,), (std,))\n",
        "                            ]))"
      ]
    },
    {
      "cell_type": "code",
      "execution_count": 1368,
      "metadata": {
        "id": "Q7YUjRBgNvgG",
        "colab": {
          "base_uri": "https://localhost:8080/"
        },
        "outputId": "c83734bc-eccb-4ed7-aa0d-06c52e42fd20"
      },
      "outputs": [
        {
          "output_type": "execute_result",
          "data": {
            "text/plain": [
              "(60000, 10000)"
            ]
          },
          "metadata": {},
          "execution_count": 1368
        }
      ],
      "source": [
        "len(train_dataset), len(test_dataset)"
      ]
    },
    {
      "cell_type": "code",
      "execution_count": 1369,
      "metadata": {
        "id": "ZAYBiTUuVm4h"
      },
      "outputs": [],
      "source": [
        "from torch.utils.data.dataloader import BatchSampler\n",
        "import gc\n",
        "\n",
        "class CustomDataset(Dataset):\n",
        "  def __init__(self, src_dataset, upsampling_factor):\n",
        "    self.src_dataset = src_dataset\n",
        "    self.src_labels = np.array([src_dataset[i][1] for i in range(len(src_dataset))])\n",
        "    self.labels = list(set(self.src_labels))\n",
        "    self.label_to_index= {label: np.where(self.src_labels == label)[0]\n",
        "                                     for label in self.labels}\n",
        "    self.upsampling_factor = upsampling_factor\n",
        "    self.transform = transforms.Compose([\n",
        "          transforms.ToTensor()\n",
        "          ])\n",
        "    \n",
        "  def __len__(self):\n",
        "      return self.upsampling_factor*len(self.src_dataset)\n",
        "\n",
        "  def __getitem__(self, idx : int):\n",
        "      # anchor image\n",
        "      ref_dataset_index = int(idx/self.upsampling_factor)\n",
        "      ref_train_image = self.src_dataset[ref_dataset_index]\n",
        "      label = ref_train_image[1]\n",
        "\n",
        "      # finding positive example\n",
        "      possible_ref_choices = self.label_to_index[label]\n",
        "      possible_ref_choices = [v for v in possible_ref_choices if v!= idx]\n",
        "      choice = random.choice(possible_ref_choices)\n",
        "      positive_train_image = self.src_dataset[choice]\n",
        "\n",
        "      # finding negative example\n",
        "      possible_neg_choices = [v for v in self.labels if v!= label]\n",
        "      choice = random.choice(possible_neg_choices)\n",
        "      choose_neg_idx = random.choice(self.label_to_index[choice])\n",
        "      negative_train_image = self.src_dataset[choice]\n",
        "\n",
        "      return (ref_train_image[0], positive_train_image[0], negative_train_image[0]), (ref_train_image[1], positive_train_image[1], negative_train_image[1])\n",
        "\n",
        "\n",
        "_train_dataset = CustomDataset(train_dataset, 1)\n",
        "_test_dataset = CustomDataset(test_dataset, 1)"
      ]
    },
    {
      "cell_type": "code",
      "execution_count": 1370,
      "metadata": {
        "id": "A0Myf7Hvi1eP",
        "colab": {
          "base_uri": "https://localhost:8080/"
        },
        "outputId": "283e9d92-d869-4456-ccc5-ec3c5f40e3c2"
      },
      "outputs": [
        {
          "output_type": "execute_result",
          "data": {
            "text/plain": [
              "(60000, 10000)"
            ]
          },
          "metadata": {},
          "execution_count": 1370
        }
      ],
      "source": [
        "len(_train_dataset), len(_test_dataset)"
      ]
    },
    {
      "cell_type": "code",
      "execution_count": 1371,
      "metadata": {
        "id": "uQzEnrBOi9IX"
      },
      "outputs": [],
      "source": [
        "# torch.save(_train_dataset, 'train.pt')\n",
        "# torch.save(_test_dataset,'test.pt')"
      ]
    },
    {
      "cell_type": "code",
      "source": [
        "class BatchSamplerUniform(Sampler):\n",
        "  def __init__(self, labels, n_classes, n_samples):\n",
        "    self.labels = labels\n",
        "    self.batch_size = n_classes*n_samples\n",
        "    self.unique_labels = list(set(labels))\n",
        "    self.n_classes = n_classes\n",
        "    self.n_samples = n_samples\n",
        "    self.labels_to_index_map = {label: np.where(self.labels == label)[0]\n",
        "                                      for label in self.unique_labels}\n",
        "    self.used_up_samples = {label: 0 for label in self.unique_labels}\n",
        "    self.count=0\n",
        "\n",
        "  def __iter__(self):\n",
        "    self.count=0\n",
        "    while self.count + self.batch_size < len(self.labels):\n",
        "      sampled_classes = np.random.choice(self.unique_labels, self.n_classes, replace=False)\n",
        "      indices = []\n",
        "      for label in sampled_classes:\n",
        "        available_indices = self.labels_to_index_map[label]\n",
        "        last_index_used = self.used_up_samples[label]\n",
        "        samples = available_indices[last_index_used:last_index_used+self.n_samples]\n",
        "        self.used_up_samples[label] = last_index_used+self.n_samples\n",
        "        if self.used_up_samples[label]+self.n_samples>len(available_indices):\n",
        "          np.random.shuffle(self.labels_to_index_map[label])\n",
        "          self.used_up_samples[label]=0\n",
        "        indices.extend(samples)\n",
        "      self.count+=self.batch_size\n",
        "      yield indices\n",
        "\n",
        "  def __len__(self):\n",
        "    return len(self.labels)//self.batch_size"
      ],
      "metadata": {
        "id": "5kNI4G4MLpKy"
      },
      "execution_count": 1385,
      "outputs": []
    },
    {
      "cell_type": "code",
      "execution_count": 1386,
      "metadata": {
        "id": "4PDl-3z2lQB9"
      },
      "outputs": [],
      "source": [
        "# kwargs = {'num_workers': 1, 'pin_memory': True} #if cuda else {}\n",
        "train_dataloader = DataLoader(_train_dataset, batch_sampler= BatchSamplerUniform(_train_dataset.src_labels, 10, 25))#, **kwargs)\n",
        "test_dataloader = DataLoader(_test_dataset, batch_sampler= BatchSamplerUniform(_test_dataset.src_labels, 10, 25))#, **kwargs)"
      ]
    },
    {
      "cell_type": "markdown",
      "metadata": {
        "id": "nwuzxzCOl5mz"
      },
      "source": [
        "## Define models"
      ]
    },
    {
      "cell_type": "code",
      "execution_count": 1387,
      "metadata": {
        "id": "oNxgB7Kkmr6L"
      },
      "outputs": [],
      "source": [
        "import torch\n",
        "import torch.nn as nn\n",
        "from torch.nn.modules.pooling import MaxPool2d"
      ]
    },
    {
      "cell_type": "code",
      "execution_count": 1388,
      "metadata": {
        "id": "uZtIOz1MmopD"
      },
      "outputs": [],
      "source": [
        "# class BasicConv2d(nn.Module):\n",
        "#   def __init__(self, in_channels, out_channels, kernel_size, stride ):\n",
        "#     super().__init__()\n",
        "#     self.model = nn.Sequential(\n",
        "#         nn.Conv2d(in_channels=in_channels,out_channels=out_channels,kernel_size=kernel_size,stride=stride),\n",
        "#         nn.BatchNorm2d(num_features=out_channels)\n",
        "#     )\n",
        "#     self.relu = nn.ReLU()\n",
        "\n",
        "#   def forward(self,x):\n",
        "#     return self.relu(self.model(x))"
      ]
    },
    {
      "cell_type": "code",
      "execution_count": 1389,
      "metadata": {
        "id": "Zs7vIk1umR-r"
      },
      "outputs": [],
      "source": [
        "class FaceSimilarity(nn.Module):\n",
        "  def __init__(self):\n",
        "    super().__init__()\n",
        "    # self.conv_layers = nn.Sequential(\n",
        "    #         nn.Conv2d(1, 64, kernel_size=3, padding=1),\n",
        "    #         nn.ReLU(),\n",
        "    #         nn.MaxPool2d(kernel_size=2, stride=2),\n",
        "    #         nn.Conv2d(64, 128, kernel_size=3, padding=1),\n",
        "    #         nn.ReLU(),\n",
        "    #         nn.MaxPool2d(kernel_size=2, stride=2),\n",
        "    #         nn.Conv2d(128, 256, kernel_size=3, padding=1),\n",
        "    #         nn.ReLU(),\n",
        "    #         nn.Conv2d(256, 256, kernel_size=3, padding=1),\n",
        "    #         nn.ReLU(),\n",
        "    #         nn.MaxPool2d(kernel_size=2, stride=2),\n",
        "    #         nn.Conv2d(256, 512, kernel_size=3, padding=1),\n",
        "    #         nn.ReLU(),\n",
        "    #         nn.Conv2d(512, 512, kernel_size=3, padding=1),\n",
        "    #         nn.ReLU(),\n",
        "    #         nn.MaxPool2d(kernel_size=2, stride=2),\n",
        "    #         nn.Conv2d(512, 512, kernel_size=3, padding=1),\n",
        "    #         nn.ReLU(),\n",
        "    #         nn.Conv2d(512, 512, kernel_size=3, padding=1),\n",
        "    #         nn.ReLU(),\n",
        "    #         nn.MaxPool2d(kernel_size=2, stride=2)\n",
        "    #     )\n",
        "    self.conv_layers = nn.Sequential(nn.Conv2d(1, 32, 5), nn.PReLU(),\n",
        "                                     nn.MaxPool2d(2, stride=2),\n",
        "                                     nn.Conv2d(32, 64, 5), nn.PReLU(),\n",
        "                                     nn.MaxPool2d(2, stride=2))\n",
        "\n",
        "    self.fc_layers = nn.Sequential(nn.Linear(64 * 4 * 4, 256),\n",
        "                        nn.PReLU(),\n",
        "                        nn.Linear(256, 256),\n",
        "                        nn.PReLU(),\n",
        "                        nn.Linear(256,2)\n",
        "                        )\n",
        "    # self.conv_layers = nn.Sequential(\n",
        "    #     BasicConv2d(in_channels=3,out_channels=64,kernel_size=7,stride=2),\n",
        "    #     nn.MaxPool2d(kernel_size=3,stride=2),\n",
        "    #     #nn.LayerNorm(55),\n",
        "    #     BasicConv2d(in_channels=64,out_channels=64,kernel_size=1,stride=1),\n",
        "    #     BasicConv2d(in_channels=64,out_channels=192,kernel_size=3,stride=1),\n",
        "    #     #nn.LayerNorm(55),\n",
        "    #     nn.MaxPool2d(kernel_size=3,stride=2),\n",
        "    #     BasicConv2d(in_channels=192,out_channels=192,kernel_size=1,stride=1),\n",
        "    #     BasicConv2d(in_channels=192,out_channels=384,kernel_size=3,stride=1),\n",
        "    #     nn.MaxPool2d(kernel_size=3,stride=2),\n",
        "    #     BasicConv2d(in_channels=384,out_channels=384,kernel_size=1,stride=1),\n",
        "    #     BasicConv2d(in_channels=384,out_channels=256,kernel_size=3,stride=1),\n",
        "    #     BasicConv2d(in_channels=256,out_channels=256,kernel_size=1,stride=1),\n",
        "    #     BasicConv2d(in_channels=256,out_channels=256,kernel_size=3,stride=1),\n",
        "    #     BasicConv2d(in_channels=256,out_channels=256,kernel_size=1,stride=1),\n",
        "    #     BasicConv2d(in_channels=256,out_channels=256,kernel_size=3,stride=1),\n",
        "    #     nn.MaxPool2d(kernel_size=3,stride=2),\n",
        "    # )\n",
        "\n",
        "    # self.fc_layers = nn.Sequential(\n",
        "    #     nn.Linear(in_features=2*2*256,out_features=128),\n",
        "    #     nn.Linear(in_features=128, out_features=128),\n",
        "    #     #nn.Linear(in_features=32*128, out_features=1*128)\n",
        "    # )\n",
        "\n",
        "  def forward(self,x):\n",
        "    conv_output = self.conv_layers(x)\n",
        "    conv_output = conv_output.view(conv_output.shape[0],-1)\n",
        "    linear_layers_output  = self.fc_layers(conv_output)\n",
        "    l2_norm_output  =(linear_layers_output/(linear_layers_output.pow(2).sum(1, keepdim=True).sqrt())).squeeze(0)\n",
        "    return l2_norm_output"
      ]
    },
    {
      "cell_type": "code",
      "execution_count": 1390,
      "metadata": {
        "id": "k44dKqL8s3-5"
      },
      "outputs": [],
      "source": [
        "class TripletModel(nn.Module):\n",
        "    def __init__(self):\n",
        "      super().__init__()\n",
        "      self.face_similarity = FaceSimilarity()\n",
        "    \n",
        "    def forward(self, anchor, positive, negative):\n",
        "      rep_1 = self.face_similarity(anchor)\n",
        "      rep_2 = self.face_similarity(positive)\n",
        "      rep_3 = self.face_similarity(negative)\n",
        "      return rep_1, rep_2, rep_3"
      ]
    },
    {
      "cell_type": "markdown",
      "metadata": {
        "id": "lbi2YHwBt0Z_"
      },
      "source": [
        "Define metrics"
      ]
    },
    {
      "cell_type": "code",
      "execution_count": 1391,
      "metadata": {
        "id": "cl-8QUDAuL2_"
      },
      "outputs": [],
      "source": [
        "class TripletLoss(nn.Module):\n",
        "  def __init__(self, alpha):\n",
        "    super().__init__()\n",
        "    self.margin = alpha\n",
        "\n",
        "  def forward(self, embeddings, target_labels):\n",
        "    distance_positive = (embeddings[:,0] - embeddings[:,1]).pow(2).sum(1)\n",
        "    distance_negative = (embeddings[:,0] - embeddings[:,2]).pow(2).sum(1)\n",
        "    loss = torch.nn.functional.relu(distance_positive - distance_negative + self.margin)\n",
        "    accuracy = 100*torch.count_nonzero(loss)/len(loss)\n",
        "    return loss.mean(), accuracy"
      ]
    },
    {
      "cell_type": "code",
      "source": [
        "from itertools import combinations\n",
        "\n",
        "class OnlineTripletLoss(nn.Module):\n",
        "  def __init__(self, alpha):\n",
        "    super().__init__()\n",
        "    self.margin = alpha\n",
        "\n",
        "  def pdist(self, vectors):\n",
        "    distance_matrix = -2 * vectors.mm(torch.t(vectors)) + vectors.pow(2).sum(dim=1).view(1, -1) + vectors.pow(2).sum(\n",
        "        dim=1).view(-1, 1)\n",
        "    #distance_matrix = np.linalg.norm(vectors-b)\n",
        "    return distance_matrix\n",
        "\n",
        "  def hardest_negative(self, loss_values):\n",
        "    hard_negative = np.argmax(loss_values)\n",
        "    return hard_negative if loss_values[hard_negative] > 0 else None\n",
        "\n",
        "  def get_pairs_with_hard_negative(self, embeddings, target_labels):\n",
        "    distance_matrix = self.pdist(embeddings)\n",
        "    distance_matrix = distance_matrix.cpu()\n",
        "    labels = target_labels.cpu().data.numpy()\n",
        "    triplets = []\n",
        "\n",
        "    for label in set(labels.flatten()):\n",
        "        label_mask = (labels == label)\n",
        "        label_indices = np.where(label_mask)[0]\n",
        "        if len(label_indices) < 2:\n",
        "            continue\n",
        "        negative_indices = np.where(np.logical_not(label_mask))[0]\n",
        "        anchor_positives = list(combinations(label_indices, 2))  # All anchor-positive pairs\n",
        "        anchor_positives = np.array(anchor_positives)\n",
        "\n",
        "        ap_distances = distance_matrix[anchor_positives[:, 0], anchor_positives[:, 1]]\n",
        "        for anchor_positive, ap_distance in zip(anchor_positives, ap_distances):\n",
        "            loss_values = ap_distance - distance_matrix[torch.LongTensor(np.array([anchor_positive[0]])), torch.LongTensor(negative_indices)] + self.margin\n",
        "            loss_values = loss_values.data.cpu().numpy()\n",
        "            hard_negative = self.hardest_negative(loss_values)\n",
        "            if hard_negative is not None:\n",
        "                hard_negative = negative_indices[hard_negative]\n",
        "                triplets.append([anchor_positive[0], anchor_positive[1], hard_negative])\n",
        "\n",
        "    if len(triplets) == 0:\n",
        "        triplets.append([anchor_positive[0], anchor_positive[1], negative_indices[0]])\n",
        "\n",
        "    triplets = np.array(triplets)\n",
        "\n",
        "    return torch.LongTensor(triplets)\n",
        "\n",
        "  def forward(self, embeddings, target_labels):\n",
        "    embeddings = torch.cat(embeddings,dim=1)\n",
        "    for sub_list in target_labels:\n",
        "      target_labels = torch.stack(sub_list,dim=0).T\n",
        "    triplets = self.get_pairs_with_hard_negative(embeddings, target_labels)\n",
        "    # if embeddings.is_cuda:\n",
        "    #         triplets = triplets.cuda()\n",
        "    ap_distances = (embeddings[triplets[:, 0]] - embeddings[triplets[:, 1]]).pow(2).sum(1)  # .pow(.5)\n",
        "    an_distances = (embeddings[triplets[:, 0]] - embeddings[triplets[:, 2]]).pow(2).sum(1)  # .pow(.5)\n",
        "    loss = torch.nn.functional.relu(ap_distances - an_distances + self.margin)\n",
        "    accuracy = 100*torch.count_nonzero(loss)/len(loss)\n",
        "\n",
        "    return loss.mean(), accuracy"
      ],
      "metadata": {
        "id": "uwBPbYynKXx3"
      },
      "execution_count": 1392,
      "outputs": []
    },
    {
      "cell_type": "code",
      "execution_count": 1398,
      "metadata": {
        "id": "jDQRCPIrn8bc"
      },
      "outputs": [],
      "source": [
        "def train_model(dataloader,model,optimizer,criterion):\n",
        "  model.train()\n",
        "  train_loss=0\n",
        "  classification_accuracy=0\n",
        "  for i, (input, target) in enumerate(dataloader):\n",
        "    optimizer.zero_grad()\n",
        "    output = model(*input)#.cuda()\n",
        "    if type(output) not in (tuple, tuple):\n",
        "       output = (output,)\n",
        "    loss_inputs = output\n",
        "    if target is not None:\n",
        "       target = (target,)\n",
        "       loss_inputs += target\n",
        "    loss, accuracy = criterion(output,target)\n",
        "    classification_accuracy+=accuracy\n",
        "    loss.backward()\n",
        "    train_loss+=loss\n",
        "    optimizer.step()\n",
        "  return train_loss/len(dataloader), classification_accuracy/len(dataloader)"
      ]
    },
    {
      "cell_type": "code",
      "execution_count": 1399,
      "metadata": {
        "id": "uZQlfHpogC48"
      },
      "outputs": [],
      "source": [
        "def eval_model(dataloader,model,optimizer,criterion):\n",
        "  model.eval()\n",
        "  val_loss=0\n",
        "  classification_accuracy=0\n",
        "  with torch.no_grad():\n",
        "    for i, (input, target) in enumerate(dataloader):\n",
        "      output = model(*input)#.cuda()\n",
        "      if type(output) not in (tuple, tuple):\n",
        "        output = (output,)\n",
        "      loss_inputs = output\n",
        "      if target is not None:\n",
        "       target = (target,)\n",
        "       loss_inputs += target\n",
        "      loss, accuracy = criterion(output,target)\n",
        "      classification_accuracy+=accuracy\n",
        "      val_loss+=loss\n",
        "    return val_loss/len(dataloader), classification_accuracy/len(dataloader)"
      ]
    },
    {
      "cell_type": "code",
      "source": [
        "def epoch_time(start_time, end_time):\n",
        "    elapsed_time = end_time - start_time\n",
        "    elapsed_mins = int(elapsed_time / 60)\n",
        "    elapsed_secs = int(elapsed_time - (elapsed_mins * 60))\n",
        "    return elapsed_mins, elapsed_secs"
      ],
      "metadata": {
        "id": "aPZKdNJ7KIb0"
      },
      "execution_count": 1400,
      "outputs": []
    },
    {
      "cell_type": "code",
      "execution_count": 1401,
      "metadata": {
        "id": "jJdQByjChK2V"
      },
      "outputs": [],
      "source": [
        "def fit(max_epochs, model, optimizer, criterion):\n",
        "  min_val_loss = float('inf')\n",
        "\n",
        "  for i in range(max_epochs):\n",
        "    start_time = time.time()\n",
        "\n",
        "    # train model\n",
        "    train_loss, train_accuracy = train_model(train_dataloader, model, optimizer, criterion)\n",
        "    \n",
        "    # val model loss\n",
        "    val_loss, val_accuracy = eval_model(test_dataloader, model, optimizer, criterion)\n",
        "\n",
        "    end_time = time.time()\n",
        "\n",
        "    epoch_mins, epoch_secs = epoch_time(start_time, end_time)\n",
        "    \n",
        "    print(f'Epoch: {i:02} | Time: {epoch_mins}m {epoch_secs}s')\n",
        "    print(\"Epoch {} elapsed, train_accuracy: {}, val_accuracy: {} , train_loss: {}, val_loss: {}\".format(i,train_accuracy,val_accuracy,train_loss,val_loss))\n",
        "    if val_loss<min_val_loss:\n",
        "      min_val_loss = val_loss\n",
        "    #  torch.save(model, '/content/face_verification.pt')"
      ]
    },
    {
      "cell_type": "code",
      "execution_count": null,
      "metadata": {
        "id": "yqWP2uEbl2tc",
        "colab": {
          "base_uri": "https://localhost:8080/"
        },
        "outputId": "4a438360-72c1-4d2d-a773-3c2b6d720ebf"
      },
      "outputs": [
        {
          "output_type": "stream",
          "name": "stdout",
          "text": [
            "380806\n"
          ]
        }
      ],
      "source": [
        "import time\n",
        "\n",
        "device = torch.device('cuda' if torch.cuda.is_available() else 'cpu')\n",
        "criterion = OnlineTripletLoss(alpha=1)\n",
        "model = TripletModel().to(device)\n",
        "optimizer = torch.optim.Adam(model.parameters())\n",
        "print(sum(p.numel() for p in model.parameters() if p.requires_grad))\n",
        "fit(10, model, optimizer, criterion)"
      ]
    },
    {
      "cell_type": "code",
      "execution_count": null,
      "metadata": {
        "id": "CH7G2hHDkq0Y"
      },
      "outputs": [],
      "source": [
        "# saved_model = TripletModel()\n",
        "# saved_model.load_state_dict(torch.load('/content/face_verification.pt'))"
      ]
    },
    {
      "cell_type": "code",
      "execution_count": null,
      "metadata": {
        "id": "l34hrmHWlA0B"
      },
      "outputs": [],
      "source": [
        "eval_model(test_dataloader)"
      ]
    }
  ],
  "metadata": {
    "colab": {
      "collapsed_sections": [],
      "provenance": [],
      "authorship_tag": "ABX9TyOINlWh8Le38Cuog0LUzL9V",
      "include_colab_link": true
    },
    "kernelspec": {
      "display_name": "Python 3",
      "name": "python3"
    },
    "language_info": {
      "name": "python"
    },
    "accelerator": "GPU"
  },
  "nbformat": 4,
  "nbformat_minor": 0
}