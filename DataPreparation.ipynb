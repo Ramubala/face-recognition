{
  "nbformat": 4,
  "nbformat_minor": 0,
  "metadata": {
    "colab": {
      "provenance": [],
      "collapsed_sections": [],
      "authorship_tag": "ABX9TyP4AGoxXoZHH6eTYaQIMgoZ",
      "include_colab_link": true
    },
    "kernelspec": {
      "name": "python3",
      "display_name": "Python 3"
    },
    "language_info": {
      "name": "python"
    }
  },
  "cells": [
    {
      "cell_type": "markdown",
      "metadata": {
        "id": "view-in-github",
        "colab_type": "text"
      },
      "source": [
        "<a href=\"https://colab.research.google.com/github/Ramubala/face-recognition/blob/main/DataPreparation.ipynb\" target=\"_parent\"><img src=\"https://colab.research.google.com/assets/colab-badge.svg\" alt=\"Open In Colab\"/></a>"
      ]
    },
    {
      "cell_type": "code",
      "source": [
        "# from google.colab import drive\n",
        "# drive.mount('/content/drive')"
      ],
      "metadata": {
        "id": "Ln7J3c8o8KYO"
      },
      "execution_count": 31,
      "outputs": []
    },
    {
      "cell_type": "code",
      "source": [
        "# !rm -rf '/content/data' \n",
        "# !rm -rf '/content/annotations'"
      ],
      "metadata": {
        "id": "XLi8zXT69zPx"
      },
      "execution_count": 34,
      "outputs": []
    },
    {
      "cell_type": "code",
      "source": [
        "# !mkdir data\n",
        "# !mkdir annotations\n",
        "# !tar zxvf '/content/drive/MyDrive/datasets/originalPics.tar.gz' -C '/content/data/' ;\n",
        "# !tar zxvf '/content/drive/MyDrive/datasets/FDDB-folds.tgz' -C '/content/annotations/';"
      ],
      "metadata": {
        "id": "B09KJnMY8Rd8"
      },
      "execution_count": 29,
      "outputs": []
    },
    {
      "cell_type": "code",
      "source": [
        "# import glob\n",
        "# file_list = [file for file in glob.glob(r'/content/annotations/FDDB-folds/*-ellipseList.txt',recursive=True)]\n",
        "# train_files, test_files = file_list[:9],[file_list[9]]\n",
        "# print(train_files, test_files)"
      ],
      "metadata": {
        "id": "6rfEZudLz-mj"
      },
      "execution_count": 32,
      "outputs": []
    },
    {
      "cell_type": "code",
      "source": [
        "#custom_train_dataset[2]"
      ],
      "metadata": {
        "id": "I3Q9YHTxgKSZ"
      },
      "execution_count": 100,
      "outputs": []
    },
    {
      "cell_type": "code",
      "source": [
        "# def per_person_stats(source_txt: str):\n",
        "#   stats_dict=dict()\n",
        "#   with open(source_txt,'r') as f:\n",
        "#     data = f.readlines()\n",
        "#     for i in range(1, len(data)):\n",
        "#       line = data[i].strip().split(\"\\t\")\n",
        "#       stats_dict[line[0]] = int(line[1])\n",
        "#   f.close()\n",
        "#   return stats_dict"
      ],
      "metadata": {
        "id": "vvYI7hIN2Ulz"
      },
      "execution_count": 83,
      "outputs": []
    },
    {
      "cell_type": "code",
      "source": [
        "# def pick_train_pairs(_dict, num_per_sample, num_negative_faces_per_sample):\n",
        "#   if num_per_sample!=3:\n",
        "#     raise Exception(\"only 3 per sample supported by algorithm\")\n",
        "#   allfaces = list(_dict.keys())\n",
        "#   data = []\n",
        "#   for key in allfaces:\n",
        "#     # anchor and postive example\n",
        "#     facepath = '/content/data/lfw-py/lfw_funneled/{}'.format(key)\n",
        "#     available_images = [file for file in glob.glob(facepath+'/*.jpg')]\n",
        "#     num_available_images = _dict[key]\n",
        "#     num_achor_postive_pairs = num_available_images*(num_available_images-1)\n",
        "#     if num_achor_postive_pairs==0:\n",
        "#       combinations = [(available_images[0],available_images[0])]\n",
        "#     else:\n",
        "#       combinations = list(itertools.combinations(available_images, 2))\n",
        "\n",
        "#     # negative face\n",
        "#     possible_choices = [v for v in allfaces if v != key]\n",
        "#     negative_examples = random.sample(possible_choices, num_negative_faces_per_sample)\n",
        "#     for negative_example in negative_examples:\n",
        "#       negfacepath = '/content/data/lfw-py/lfw_funneled/{}'.format(negative_example)\n",
        "#       available_images = [file for file in glob.glob(negfacepath+'/*.jpg')]\n",
        "#       neg_imgpath = random.choice(available_images)\n",
        "\n",
        "#       for tuple_el in combinations:\n",
        "#         data.append((tuple_el[0],tuple_el[1],neg_imgpath))\n",
        "#   return data  "
      ],
      "metadata": {
        "id": "7m0TnlkV0gRe"
      },
      "execution_count": 66,
      "outputs": []
    },
    {
      "cell_type": "code",
      "source": [
        "# train_txt_file = '/content/data/lfw-py/peopleDevTrain.txt'\n",
        "# test_txt_file = '/content/data/lfw-py/peopleDevTest.txt'\n",
        "# train_stats = per_person_stats(train_txt_file)\n",
        "# test_stats = per_person_stats(test_txt_file)"
      ],
      "metadata": {
        "id": "pQC6z6BM1h6Z"
      },
      "execution_count": 102,
      "outputs": []
    },
    {
      "cell_type": "code",
      "source": [
        "#test_stats.keys() & train_stats.keys()"
      ],
      "metadata": {
        "id": "b-NpiT7c3cjb"
      },
      "execution_count": 65,
      "outputs": []
    },
    {
      "cell_type": "code",
      "source": [
        "# train_data = pick_train_pairs(train_stats, 3, 5)"
      ],
      "metadata": {
        "id": "k4LepwlE3veJ"
      },
      "execution_count": 103,
      "outputs": []
    },
    {
      "cell_type": "code",
      "source": [
        "import torchvision\n",
        "import torch\n",
        "import os\n",
        "import glob\n",
        "import numpy as np\n",
        "import itertools\n",
        "import random\n",
        "random.seed(42)\n",
        "from torch.utils.data import DataLoader,Dataset"
      ],
      "metadata": {
        "id": "M4eBeNfY1pga"
      },
      "execution_count": 105,
      "outputs": []
    },
    {
      "cell_type": "code",
      "source": [
        "train_dataset = torchvision.datasets.LFWPeople('/content/data/',split='train',download=True)\n",
        "test_dataset = torchvision.datasets.LFWPeople('/content/data/',split='test',download=True)"
      ],
      "metadata": {
        "colab": {
          "base_uri": "https://localhost:8080/"
        },
        "id": "9zK0a1Fz1hvc",
        "outputId": "054f7248-001b-44f4-ccfd-70642396d25e"
      },
      "execution_count": 70,
      "outputs": [
        {
          "output_type": "stream",
          "name": "stdout",
          "text": [
            "Files already downloaded and verified\n",
            "Files already downloaded and verified\n"
          ]
        }
      ]
    },
    {
      "cell_type": "code",
      "source": [
        "len(train_dataset), len(test_dataset)"
      ],
      "metadata": {
        "colab": {
          "base_uri": "https://localhost:8080/"
        },
        "id": "Q7YUjRBgNvgG",
        "outputId": "f142bb8a-7655-4f14-eeaf-5e1a335a38e5"
      },
      "execution_count": 73,
      "outputs": [
        {
          "output_type": "execute_result",
          "data": {
            "text/plain": [
              "(9525, 3708)"
            ]
          },
          "metadata": {},
          "execution_count": 73
        }
      ]
    },
    {
      "cell_type": "code",
      "source": [
        "train_dataset[0][0], train_dataset[0][1]"
      ],
      "metadata": {
        "colab": {
          "base_uri": "https://localhost:8080/"
        },
        "id": "g0hBAcjiWIYs",
        "outputId": "2c1d76ce-9c54-438c-c5e2-7051ba0f7f31"
      },
      "execution_count": 81,
      "outputs": [
        {
          "output_type": "execute_result",
          "data": {
            "text/plain": [
              "(<PIL.Image.Image image mode=RGB size=250x250 at 0x7F6AE9DEFC10>, 0)"
            ]
          },
          "metadata": {},
          "execution_count": 81
        }
      ]
    },
    {
      "cell_type": "code",
      "source": [
        "class CustomDataset(Dataset):\n",
        "  def __init__(self, src_dataset, upsampling_factor):\n",
        "    self.src_dataset = src_dataset\n",
        "    self.train_labels = np.array([src_dataset[i][1] for i in range(len(src_dataset))])\n",
        "    self.labels = list(set(self.train_labels))\n",
        "    self.label_to_index= {label: np.where(self.train_labels == label)[0]\n",
        "                                     for label in self.labels}\n",
        "    self.upsampling_factor = upsampling_factor\n",
        "    \n",
        "  def __len__(self):\n",
        "      return self.upsampling_factor*len(self.src_dataset)\n",
        "\n",
        "  def __getitem__(self, idx):\n",
        "      # anchor image\n",
        "      ref_dataset_index = int(idx/self.upsampling_factor)\n",
        "      ref_train_image = self.src_dataset[ref_dataset_index]#[0], self.src_dataset[ref_dataset_index][1]\n",
        "      label = ref_train_image[1]\n",
        "\n",
        "      # finding positive example\n",
        "      possible_ref_choices = self.label_to_index[label]\n",
        "      choice = random.choice(possible_ref_choices)\n",
        "      positive_train_image = self.src_dataset[choice]#[0], self.src_dataset[choice][1]\n",
        "\n",
        "      # finding negative example\n",
        "      possible_neg_choices = [v for v in self.labels if v!= label]\n",
        "      choice = random.choice(possible_neg_choices)\n",
        "      negative_train_image = self.src_dataset[choice]#[0], self.src_dataset[choice][1]\n",
        "\n",
        "      return [ref_train_image, positive_train_image,negative_train_image]\n",
        "\n",
        "\n",
        "_train_dataset = CustomDataset(train_dataset, 3)\n",
        "_test_dataset = CustomDataset(test_dataset, 1)"
      ],
      "metadata": {
        "id": "ZAYBiTUuVm4h"
      },
      "execution_count": 101,
      "outputs": []
    },
    {
      "cell_type": "code",
      "source": [
        "len(_train_dataset), len(_test_dataset)"
      ],
      "metadata": {
        "colab": {
          "base_uri": "https://localhost:8080/"
        },
        "id": "A0Myf7Hvi1eP",
        "outputId": "912ecc62-3187-4bbc-9da1-3199c690d76e"
      },
      "execution_count": 104,
      "outputs": [
        {
          "output_type": "execute_result",
          "data": {
            "text/plain": [
              "(28575, 3708)"
            ]
          },
          "metadata": {},
          "execution_count": 104
        }
      ]
    },
    {
      "cell_type": "code",
      "source": [
        "torch.save(_train_dataset, 'train.pt')\n",
        "torch.save(_test_dataset,'test.pt')"
      ],
      "metadata": {
        "id": "uQzEnrBOi9IX"
      },
      "execution_count": 106,
      "outputs": []
    }
  ]
}