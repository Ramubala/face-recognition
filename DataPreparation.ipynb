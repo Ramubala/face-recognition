{
  "nbformat": 4,
  "nbformat_minor": 0,
  "metadata": {
    "colab": {
      "provenance": [],
      "collapsed_sections": [],
      "authorship_tag": "ABX9TyM6420Tgzl6Q6tHKBTQ3eXD",
      "include_colab_link": true
    },
    "kernelspec": {
      "name": "python3",
      "display_name": "Python 3"
    },
    "language_info": {
      "name": "python"
    }
  },
  "cells": [
    {
      "cell_type": "markdown",
      "metadata": {
        "id": "view-in-github",
        "colab_type": "text"
      },
      "source": [
        "<a href=\"https://colab.research.google.com/github/Ramubala/face-recognition/blob/main/DataPreparation.ipynb\" target=\"_parent\"><img src=\"https://colab.research.google.com/assets/colab-badge.svg\" alt=\"Open In Colab\"/></a>"
      ]
    },
    {
      "cell_type": "code",
      "source": [
        "# from google.colab import drive\n",
        "# drive.mount('/content/drive')"
      ],
      "metadata": {
        "id": "Ln7J3c8o8KYO"
      },
      "execution_count": 100,
      "outputs": []
    },
    {
      "cell_type": "code",
      "source": [
        "# !rm -rf '/content/data' \n",
        "# !rm -rf '/content/annotations'"
      ],
      "metadata": {
        "id": "XLi8zXT69zPx"
      },
      "execution_count": 101,
      "outputs": []
    },
    {
      "cell_type": "code",
      "source": [
        "# !mkdir data\n",
        "# !mkdir annotations\n",
        "# !tar zxvf '/content/drive/MyDrive/datasets/originalPics.tar.gz' -C '/content/data/' ;\n",
        "# !tar zxvf '/content/drive/MyDrive/datasets/FDDB-folds.tgz' -C '/content/annotations/';"
      ],
      "metadata": {
        "id": "B09KJnMY8Rd8"
      },
      "execution_count": 102,
      "outputs": []
    },
    {
      "cell_type": "code",
      "source": [
        "# import glob\n",
        "# file_list = [file for file in glob.glob(r'/content/annotations/FDDB-folds/*-ellipseList.txt',recursive=True)]\n",
        "# train_files, test_files = file_list[:9],[file_list[9]]\n",
        "# print(train_files, test_files)"
      ],
      "metadata": {
        "id": "6rfEZudLz-mj"
      },
      "execution_count": 103,
      "outputs": []
    },
    {
      "cell_type": "code",
      "source": [
        "#custom_train_dataset[2]"
      ],
      "metadata": {
        "id": "I3Q9YHTxgKSZ"
      },
      "execution_count": 104,
      "outputs": []
    },
    {
      "cell_type": "code",
      "source": [
        "# def per_person_stats(source_txt: str):\n",
        "#   stats_dict=dict()\n",
        "#   with open(source_txt,'r') as f:\n",
        "#     data = f.readlines()\n",
        "#     for i in range(1, len(data)):\n",
        "#       line = data[i].strip().split(\"\\t\")\n",
        "#       stats_dict[line[0]] = int(line[1])\n",
        "#   f.close()\n",
        "#   return stats_dict"
      ],
      "metadata": {
        "id": "vvYI7hIN2Ulz"
      },
      "execution_count": 105,
      "outputs": []
    },
    {
      "cell_type": "code",
      "source": [
        "# def pick_train_pairs(_dict, num_per_sample, num_negative_faces_per_sample):\n",
        "#   if num_per_sample!=3:\n",
        "#     raise Exception(\"only 3 per sample supported by algorithm\")\n",
        "#   allfaces = list(_dict.keys())\n",
        "#   data = []\n",
        "#   for key in allfaces:\n",
        "#     # anchor and postive example\n",
        "#     facepath = '/content/data/lfw-py/lfw_funneled/{}'.format(key)\n",
        "#     available_images = [file for file in glob.glob(facepath+'/*.jpg')]\n",
        "#     num_available_images = _dict[key]\n",
        "#     num_achor_postive_pairs = num_available_images*(num_available_images-1)\n",
        "#     if num_achor_postive_pairs==0:\n",
        "#       combinations = [(available_images[0],available_images[0])]\n",
        "#     else:\n",
        "#       combinations = list(itertools.combinations(available_images, 2))\n",
        "\n",
        "#     # negative face\n",
        "#     possible_choices = [v for v in allfaces if v != key]\n",
        "#     negative_examples = random.sample(possible_choices, num_negative_faces_per_sample)\n",
        "#     for negative_example in negative_examples:\n",
        "#       negfacepath = '/content/data/lfw-py/lfw_funneled/{}'.format(negative_example)\n",
        "#       available_images = [file for file in glob.glob(negfacepath+'/*.jpg')]\n",
        "#       neg_imgpath = random.choice(available_images)\n",
        "\n",
        "#       for tuple_el in combinations:\n",
        "#         data.append((tuple_el[0],tuple_el[1],neg_imgpath))\n",
        "#   return data  "
      ],
      "metadata": {
        "id": "7m0TnlkV0gRe"
      },
      "execution_count": 106,
      "outputs": []
    },
    {
      "cell_type": "code",
      "source": [
        "# train_txt_file = '/content/data/lfw-py/peopleDevTrain.txt'\n",
        "# test_txt_file = '/content/data/lfw-py/peopleDevTest.txt'\n",
        "# train_stats = per_person_stats(train_txt_file)\n",
        "# test_stats = per_person_stats(test_txt_file)"
      ],
      "metadata": {
        "id": "pQC6z6BM1h6Z"
      },
      "execution_count": 107,
      "outputs": []
    },
    {
      "cell_type": "code",
      "source": [
        "#test_stats.keys() & train_stats.keys()"
      ],
      "metadata": {
        "id": "b-NpiT7c3cjb"
      },
      "execution_count": 108,
      "outputs": []
    },
    {
      "cell_type": "code",
      "source": [
        "# train_data = pick_train_pairs(train_stats, 3, 5)"
      ],
      "metadata": {
        "id": "k4LepwlE3veJ"
      },
      "execution_count": 109,
      "outputs": []
    },
    {
      "cell_type": "code",
      "source": [
        "import torchvision\n",
        "import torch\n",
        "import os\n",
        "import glob\n",
        "import numpy as np\n",
        "import itertools\n",
        "import random\n",
        "random.seed(42)\n",
        "from torch.utils.data import DataLoader,Dataset\n",
        "import torchvision.transforms as transforms"
      ],
      "metadata": {
        "id": "M4eBeNfY1pga"
      },
      "execution_count": 110,
      "outputs": []
    },
    {
      "cell_type": "code",
      "source": [
        "train_dataset = torchvision.datasets.LFWPeople('/content/data/',split='train',download=True)\n",
        "test_dataset = torchvision.datasets.LFWPeople('/content/data/',split='test',download=True)"
      ],
      "metadata": {
        "colab": {
          "base_uri": "https://localhost:8080/"
        },
        "id": "9zK0a1Fz1hvc",
        "outputId": "e634f3c9-01be-4b98-fa9b-e7bbc891bd8b"
      },
      "execution_count": 111,
      "outputs": [
        {
          "output_type": "stream",
          "name": "stdout",
          "text": [
            "Files already downloaded and verified\n",
            "Files already downloaded and verified\n"
          ]
        }
      ]
    },
    {
      "cell_type": "code",
      "source": [
        "len(train_dataset), len(test_dataset)"
      ],
      "metadata": {
        "colab": {
          "base_uri": "https://localhost:8080/"
        },
        "id": "Q7YUjRBgNvgG",
        "outputId": "1168242f-677b-499a-d366-85d12447f2fa"
      },
      "execution_count": 112,
      "outputs": [
        {
          "output_type": "execute_result",
          "data": {
            "text/plain": [
              "(9525, 3708)"
            ]
          },
          "metadata": {},
          "execution_count": 112
        }
      ]
    },
    {
      "cell_type": "code",
      "source": [
        "train_dataset[0][0], train_dataset[0][1]"
      ],
      "metadata": {
        "colab": {
          "base_uri": "https://localhost:8080/"
        },
        "id": "g0hBAcjiWIYs",
        "outputId": "0bf9809b-db7c-45b3-82cf-19c9fc04d9db"
      },
      "execution_count": 113,
      "outputs": [
        {
          "output_type": "execute_result",
          "data": {
            "text/plain": [
              "(<PIL.Image.Image image mode=RGB size=250x250 at 0x7FBB8F2C64D0>, 0)"
            ]
          },
          "metadata": {},
          "execution_count": 113
        }
      ]
    },
    {
      "cell_type": "code",
      "source": [
        "class CustomDataset(Dataset):\n",
        "  def __init__(self, src_dataset, upsampling_factor):\n",
        "    self.src_dataset = src_dataset\n",
        "    self.train_labels = np.array([src_dataset[i][1] for i in range(len(src_dataset))])\n",
        "    self.labels = list(set(self.train_labels))\n",
        "    self.label_to_index= {label: np.where(self.train_labels == label)[0]\n",
        "                                     for label in self.labels}\n",
        "    self.upsampling_factor = upsampling_factor\n",
        "    self.transform = transforms.Compose([\n",
        "          transforms.ToTensor()\n",
        "          ])\n",
        "    \n",
        "  def __len__(self):\n",
        "      return self.upsampling_factor*len(self.src_dataset)\n",
        "\n",
        "  def __getitem__(self, idx):\n",
        "      # anchor image\n",
        "      ref_dataset_index = int(idx/self.upsampling_factor)\n",
        "      ref_train_image = self.src_dataset[ref_dataset_index]#[0], self.src_dataset[ref_dataset_index][1]\n",
        "      label = ref_train_image[1]\n",
        "\n",
        "      # finding positive example\n",
        "      possible_ref_choices = self.label_to_index[label]\n",
        "      choice = random.choice(possible_ref_choices)\n",
        "      positive_train_image = self.src_dataset[choice]#[0], self.src_dataset[choice][1]\n",
        "\n",
        "      # finding negative example\n",
        "      possible_neg_choices = [v for v in self.labels if v!= label]\n",
        "      choice = random.choice(possible_neg_choices)\n",
        "      negative_train_image = self.src_dataset[choice]#[0], self.src_dataset[choice][1]\n",
        "\n",
        "      return (self.transform(ref_train_image[0]), self.transform(positive_train_image[0]), self.transform(negative_train_image[0])), (ref_train_image[1], positive_train_image[1], negative_train_image[1])\n",
        "\n",
        "\n",
        "_train_dataset = CustomDataset(train_dataset, 1)\n",
        "_test_dataset = CustomDataset(test_dataset, 1)"
      ],
      "metadata": {
        "id": "ZAYBiTUuVm4h"
      },
      "execution_count": null,
      "outputs": []
    },
    {
      "cell_type": "code",
      "source": [
        "len(_train_dataset), len(_test_dataset)"
      ],
      "metadata": {
        "id": "A0Myf7Hvi1eP"
      },
      "execution_count": null,
      "outputs": []
    },
    {
      "cell_type": "code",
      "source": [
        "_train_dataset[0][0][0].shape"
      ],
      "metadata": {
        "id": "36uVYBrerIqE"
      },
      "execution_count": null,
      "outputs": []
    },
    {
      "cell_type": "code",
      "source": [
        "# torch.save(_train_dataset, 'train.pt')\n",
        "# torch.save(_test_dataset,'test.pt')"
      ],
      "metadata": {
        "id": "uQzEnrBOi9IX"
      },
      "execution_count": null,
      "outputs": []
    },
    {
      "cell_type": "code",
      "source": [
        "train_dataloader = DataLoader(_train_dataset,batch_size=32)\n",
        "test_dataloader = DataLoader(_test_dataset, batch_size=32)"
      ],
      "metadata": {
        "id": "4PDl-3z2lQB9"
      },
      "execution_count": null,
      "outputs": []
    },
    {
      "cell_type": "markdown",
      "source": [
        "## Define models"
      ],
      "metadata": {
        "id": "nwuzxzCOl5mz"
      }
    },
    {
      "cell_type": "code",
      "source": [
        "import torch\n",
        "import torch.nn as nn\n",
        "from torch.nn.modules.pooling import MaxPool2d"
      ],
      "metadata": {
        "id": "oNxgB7Kkmr6L"
      },
      "execution_count": null,
      "outputs": []
    },
    {
      "cell_type": "code",
      "source": [
        "class BasicConv2d(nn.Module):\n",
        "  def __init__(self, in_channels, out_channels, kernel_size, stride ):\n",
        "    super().__init__()\n",
        "    self.model = nn.Sequential(\n",
        "        nn.Conv2d(in_channels=in_channels,out_channels=out_channels,kernel_size=kernel_size,stride=stride),\n",
        "        nn.BatchNorm2d(num_features=out_channels)\n",
        "    )\n",
        "    self.relu = nn.ReLU()\n",
        "\n",
        "  def forward(self,x):\n",
        "    return self.relu(self.model(x))"
      ],
      "metadata": {
        "id": "uZtIOz1MmopD"
      },
      "execution_count": null,
      "outputs": []
    },
    {
      "cell_type": "code",
      "source": [
        "class FaceSimilarity(nn.Module):\n",
        "  def __init__(self):\n",
        "    super().__init__()\n",
        "    self.conv_layers = nn.Sequential(nn.Conv2d(3, 32, 5), \n",
        "                                     nn.PReLU(),\n",
        "                                     nn.MaxPool2d(2, stride=2),\n",
        "                                     nn.Conv2d(32, 64, 5), \n",
        "                                     nn.PReLU(),\n",
        "                                     nn.MaxPool2d(2, stride=2))\n",
        "\n",
        "    self.fc_layers = nn.Sequential(nn.Linear(64 * 59 * 59, 256),\n",
        "                            nn.PReLU(),\n",
        "                            nn.Linear(256, 256),\n",
        "                            nn.PReLU(),\n",
        "                            nn.Linear(256, 128)\n",
        "                            )\n",
        "    # self.conv_layers = nn.Sequential(\n",
        "    #     BasicConv2d(in_channels=3,out_channels=64,kernel_size=7,stride=2),\n",
        "    #     nn.MaxPool2d(kernel_size=3,stride=2),\n",
        "    #     #nn.LayerNorm(55),\n",
        "    #     BasicConv2d(in_channels=64,out_channels=64,kernel_size=1,stride=1),\n",
        "    #     BasicConv2d(in_channels=64,out_channels=192,kernel_size=3,stride=1),\n",
        "    #     #nn.LayerNorm(55),\n",
        "    #     nn.MaxPool2d(kernel_size=3,stride=2),\n",
        "    #     BasicConv2d(in_channels=192,out_channels=192,kernel_size=1,stride=1),\n",
        "    #     BasicConv2d(in_channels=192,out_channels=384,kernel_size=3,stride=1),\n",
        "    #     nn.MaxPool2d(kernel_size=3,stride=2),\n",
        "    #     BasicConv2d(in_channels=384,out_channels=384,kernel_size=1,stride=1),\n",
        "    #     BasicConv2d(in_channels=384,out_channels=256,kernel_size=3,stride=1),\n",
        "    #     BasicConv2d(in_channels=256,out_channels=256,kernel_size=1,stride=1),\n",
        "    #     BasicConv2d(in_channels=256,out_channels=256,kernel_size=3,stride=1),\n",
        "    #     BasicConv2d(in_channels=256,out_channels=256,kernel_size=1,stride=1),\n",
        "    #     BasicConv2d(in_channels=256,out_channels=256,kernel_size=3,stride=1),\n",
        "    #     nn.MaxPool2d(kernel_size=3,stride=2),\n",
        "    # )\n",
        "\n",
        "    # self.fc_layers = nn.Sequential(\n",
        "    #     nn.Linear(in_features=2*2*256,out_features=128),\n",
        "    #     nn.Linear(in_features=128, out_features=128),\n",
        "    #     #nn.Linear(in_features=32*128, out_features=1*128)\n",
        "    # )\n",
        "\n",
        "  def forward(self,x):\n",
        "    conv_output = self.conv_layers(x)\n",
        "    conv_output = conv_output.view(conv_output.size()[0], -1)\n",
        "    linear_layers_output  = self.fc_layers(conv_output)\n",
        "    l2_norm_output  = linear_layers_output/(linear_layers_output.pow(2).sum(1, keepdim=True).sqrt())\n",
        "    return l2_norm_output"
      ],
      "metadata": {
        "id": "Zs7vIk1umR-r"
      },
      "execution_count": null,
      "outputs": []
    },
    {
      "cell_type": "code",
      "source": [
        "class TripletModel(nn.Module):\n",
        "    def __init__(self):\n",
        "      super().__init__()\n",
        "      self.face_similarity = FaceSimilarity()\n",
        "    \n",
        "    def forward(self, anchor, positive, negative):\n",
        "      rep_1 = self.face_similarity(anchor).reshape(-1,128)\n",
        "      rep_2 = self.face_similarity(positive).reshape(-1,128)\n",
        "      rep_3 = self.face_similarity(negative).reshape(-1,128)\n",
        "      return rep_1, rep_2, rep_3"
      ],
      "metadata": {
        "id": "k44dKqL8s3-5"
      },
      "execution_count": null,
      "outputs": []
    },
    {
      "cell_type": "markdown",
      "source": [
        "Define metrics"
      ],
      "metadata": {
        "id": "lbi2YHwBt0Z_"
      }
    },
    {
      "cell_type": "code",
      "source": [
        "class TripletLoss(nn.Module):\n",
        "  def __init__(self, alpha):\n",
        "    super().__init__()\n",
        "    self.margin = alpha\n",
        "\n",
        "  def forward(self, anchor, positive, negative):\n",
        "    distance_positive = (anchor - positive).pow(2).sum(1)\n",
        "    distance_negative = (anchor - negative).pow(2).sum(1)\n",
        "    losses = torch.nn.functional.relu(distance_positive - distance_negative + self.margin)\n",
        "    return losses.mean()"
      ],
      "metadata": {
        "id": "cl-8QUDAuL2_"
      },
      "execution_count": null,
      "outputs": []
    },
    {
      "cell_type": "code",
      "source": [
        "device = torch.device('cuda' if torch.cuda.is_available() else 'cpu')\n",
        "criterion = TripletLoss(alpha=1.2)\n",
        "model = TripletModel().to(device)\n",
        "optimizer = torch.optim.Adam(model.parameters())"
      ],
      "metadata": {
        "id": "g7esqm0Emxqm"
      },
      "execution_count": null,
      "outputs": []
    },
    {
      "cell_type": "code",
      "source": [
        "sum(p.numel() for p in model.parameters() if p.requires_grad)"
      ],
      "metadata": {
        "id": "shDAXj2Bzv9z"
      },
      "execution_count": null,
      "outputs": []
    },
    {
      "cell_type": "code",
      "source": [
        "def train_model(dataloader,model,optimizer,criterion):\n",
        "  model.train()\n",
        "  train_loss=0\n",
        "  for i, (input,target) in enumerate(dataloader):\n",
        "    optimizer.zero_grad()\n",
        "    output = model(input[0], input[1], input[2])\n",
        "    loss = criterion(output[0],output[1],output[2])\n",
        "    loss.backward()\n",
        "    train_loss+=loss\n",
        "    optimizer.step()\n",
        "  return train_loss/len(dataloader)"
      ],
      "metadata": {
        "id": "jDQRCPIrn8bc"
      },
      "execution_count": null,
      "outputs": []
    },
    {
      "cell_type": "code",
      "source": [
        "def eval_model(dataloader,model,optimizer,criterion):\n",
        "  model.eval()\n",
        "  val_loss=0\n",
        "  classification_accuracy=0\n",
        "  with optimizer.zero_grad():\n",
        "    for i, (input,target) in enumerate(dataloader):\n",
        "      output = model(input[0],input[1],input[2])\n",
        "      loss = criterion(output[0],output[1],output[2])\n",
        "      classification_accuracy+=torch.count.non_zero(loss)/len(loss)\n",
        "      #loss.backward()\n",
        "      val_loss+=loss\n",
        "    return val_loss/len(dataloader), classification_accuracy/len(dataloader)"
      ],
      "metadata": {
        "id": "uZQlfHpogC48"
      },
      "execution_count": null,
      "outputs": []
    },
    {
      "cell_type": "code",
      "source": [
        "def fit(max_epochs, model, optimizer, criterion, lr):\n",
        "  min_val_loss = float('inf')\n",
        "\n",
        "  for i in range(max_epochs):\n",
        "    # train model\n",
        "    train_loss, train_accuracy = train_model(train_dataloader,model, optimizer, criterion)\n",
        "    \n",
        "    # val model loss\n",
        "    val_loss, val_accuracy = eval_model(test_dataloader, model, optimizer, criterion)\n",
        "\n",
        "    print(\"Epoch {} elapsed, train_accuracy: {}, val_accuracy: {} , train_loss: {}, val_loss: {}\".format(train_accuracy,val_accuracy,train_loss,val_loss))\n",
        "    if val_loss<min_val_loss:\n",
        "      torch.save('saved_model/face_verification.pt')"
      ],
      "metadata": {
        "id": "jJdQByjChK2V"
      },
      "execution_count": null,
      "outputs": []
    },
    {
      "cell_type": "code",
      "source": [
        "fit(1, model, optimizer, criterion, 0.1)"
      ],
      "metadata": {
        "id": "yqWP2uEbl2tc"
      },
      "execution_count": null,
      "outputs": []
    },
    {
      "cell_type": "code",
      "source": [
        "saved_model = TripletModel()\n",
        "saved_model.load_state_dict(torch.load('saved_model/face_verification.pt'))"
      ],
      "metadata": {
        "id": "CH7G2hHDkq0Y"
      },
      "execution_count": null,
      "outputs": []
    },
    {
      "cell_type": "code",
      "source": [
        "eval_model(test_dataloader)"
      ],
      "metadata": {
        "id": "l34hrmHWlA0B"
      },
      "execution_count": null,
      "outputs": []
    }
  ]
}